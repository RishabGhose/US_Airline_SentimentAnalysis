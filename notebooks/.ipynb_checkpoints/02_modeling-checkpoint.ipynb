{
 "cells": [
  {
   "cell_type": "code",
   "execution_count": 1,
   "id": "60c2d9ae",
   "metadata": {},
   "outputs": [],
   "source": [
    "import pandas as pd\n",
    "import numpy as np\n",
    "import matplotlib.pyplot as plt\n",
    "from sklearn.model_selection import train_test_split\n",
    "from sklearn import metrics\n",
    "from sklearn.naive_bayes import MultinomialNB\n",
    "from sklearn.linear_model import LogisticRegression\n",
    "from sklearn.svm import SVC\n",
    "from sklearn.feature_extraction.text import CountVectorizer\n",
    "from sklearn.feature_extraction.text import TfidfVectorizer\n",
    "from sklearn.pipeline import Pipeline\n",
    "from sklearn.model_selection import GridSearchCV"
   ]
  },
  {
   "cell_type": "code",
   "execution_count": 2,
   "id": "75886720",
   "metadata": {},
   "outputs": [
    {
     "data": {
      "text/html": [
       "<div>\n",
       "<style scoped>\n",
       "    .dataframe tbody tr th:only-of-type {\n",
       "        vertical-align: middle;\n",
       "    }\n",
       "\n",
       "    .dataframe tbody tr th {\n",
       "        vertical-align: top;\n",
       "    }\n",
       "\n",
       "    .dataframe thead th {\n",
       "        text-align: right;\n",
       "    }\n",
       "</style>\n",
       "<table border=\"1\" class=\"dataframe\">\n",
       "  <thead>\n",
       "    <tr style=\"text-align: right;\">\n",
       "      <th></th>\n",
       "      <th>airline_sentiment</th>\n",
       "      <th>negativereason</th>\n",
       "      <th>airline</th>\n",
       "      <th>retweet_count</th>\n",
       "      <th>text</th>\n",
       "      <th>text_clean</th>\n",
       "    </tr>\n",
       "  </thead>\n",
       "  <tbody>\n",
       "    <tr>\n",
       "      <th>0</th>\n",
       "      <td>positive</td>\n",
       "      <td>No Reason</td>\n",
       "      <td>Virgin America</td>\n",
       "      <td>0</td>\n",
       "      <td>@VirginAmerica plus you've added commercials t...</td>\n",
       "      <td>plus added commercial experience tacky</td>\n",
       "    </tr>\n",
       "    <tr>\n",
       "      <th>1</th>\n",
       "      <td>negative</td>\n",
       "      <td>Bad Flight</td>\n",
       "      <td>Virgin America</td>\n",
       "      <td>0</td>\n",
       "      <td>@VirginAmerica it's really aggressive to blast...</td>\n",
       "      <td>really aggressive blast obnoxious entertainmen...</td>\n",
       "    </tr>\n",
       "    <tr>\n",
       "      <th>2</th>\n",
       "      <td>negative</td>\n",
       "      <td>Can't Tell</td>\n",
       "      <td>Virgin America</td>\n",
       "      <td>0</td>\n",
       "      <td>@VirginAmerica and it's a really big bad thing...</td>\n",
       "      <td>really big bad thing</td>\n",
       "    </tr>\n",
       "    <tr>\n",
       "      <th>3</th>\n",
       "      <td>negative</td>\n",
       "      <td>Can't Tell</td>\n",
       "      <td>Virgin America</td>\n",
       "      <td>0</td>\n",
       "      <td>@VirginAmerica seriously would pay $30 a fligh...</td>\n",
       "      <td>seriously pay flight seat did playing really b...</td>\n",
       "    </tr>\n",
       "    <tr>\n",
       "      <th>4</th>\n",
       "      <td>positive</td>\n",
       "      <td>No Reason</td>\n",
       "      <td>Virgin America</td>\n",
       "      <td>0</td>\n",
       "      <td>@VirginAmerica yes, nearly every time I fly VX...</td>\n",
       "      <td>yes nearly time fly vx ear worm away</td>\n",
       "    </tr>\n",
       "  </tbody>\n",
       "</table>\n",
       "</div>"
      ],
      "text/plain": [
       "  airline_sentiment negativereason         airline  retweet_count  \\\n",
       "0          positive      No Reason  Virgin America              0   \n",
       "1          negative     Bad Flight  Virgin America              0   \n",
       "2          negative     Can't Tell  Virgin America              0   \n",
       "3          negative     Can't Tell  Virgin America              0   \n",
       "4          positive      No Reason  Virgin America              0   \n",
       "\n",
       "                                                text  \\\n",
       "0  @VirginAmerica plus you've added commercials t...   \n",
       "1  @VirginAmerica it's really aggressive to blast...   \n",
       "2  @VirginAmerica and it's a really big bad thing...   \n",
       "3  @VirginAmerica seriously would pay $30 a fligh...   \n",
       "4  @VirginAmerica yes, nearly every time I fly VX...   \n",
       "\n",
       "                                          text_clean  \n",
       "0             plus added commercial experience tacky  \n",
       "1  really aggressive blast obnoxious entertainmen...  \n",
       "2                               really big bad thing  \n",
       "3  seriously pay flight seat did playing really b...  \n",
       "4               yes nearly time fly vx ear worm away  "
      ]
     },
     "execution_count": 2,
     "metadata": {},
     "output_type": "execute_result"
    }
   ],
   "source": [
    "df = pd.read_csv('../data/clean_data.csv', index_col=0)\n",
    "df.head()"
   ]
  },
  {
   "cell_type": "code",
   "execution_count": 3,
   "id": "ecff2350",
   "metadata": {},
   "outputs": [
    {
     "data": {
      "text/html": [
       "<div>\n",
       "<style scoped>\n",
       "    .dataframe tbody tr th:only-of-type {\n",
       "        vertical-align: middle;\n",
       "    }\n",
       "\n",
       "    .dataframe tbody tr th {\n",
       "        vertical-align: top;\n",
       "    }\n",
       "\n",
       "    .dataframe thead th {\n",
       "        text-align: right;\n",
       "    }\n",
       "</style>\n",
       "<table border=\"1\" class=\"dataframe\">\n",
       "  <thead>\n",
       "    <tr style=\"text-align: right;\">\n",
       "      <th></th>\n",
       "      <th>airline_sentiment</th>\n",
       "      <th>negativereason</th>\n",
       "      <th>airline</th>\n",
       "      <th>retweet_count</th>\n",
       "      <th>text</th>\n",
       "      <th>text_clean</th>\n",
       "      <th>sentiment_num</th>\n",
       "    </tr>\n",
       "  </thead>\n",
       "  <tbody>\n",
       "    <tr>\n",
       "      <th>0</th>\n",
       "      <td>positive</td>\n",
       "      <td>No Reason</td>\n",
       "      <td>Virgin America</td>\n",
       "      <td>0</td>\n",
       "      <td>@VirginAmerica plus you've added commercials t...</td>\n",
       "      <td>plus added commercial experience tacky</td>\n",
       "      <td>1</td>\n",
       "    </tr>\n",
       "    <tr>\n",
       "      <th>1</th>\n",
       "      <td>negative</td>\n",
       "      <td>Bad Flight</td>\n",
       "      <td>Virgin America</td>\n",
       "      <td>0</td>\n",
       "      <td>@VirginAmerica it's really aggressive to blast...</td>\n",
       "      <td>really aggressive blast obnoxious entertainmen...</td>\n",
       "      <td>0</td>\n",
       "    </tr>\n",
       "    <tr>\n",
       "      <th>2</th>\n",
       "      <td>negative</td>\n",
       "      <td>Can't Tell</td>\n",
       "      <td>Virgin America</td>\n",
       "      <td>0</td>\n",
       "      <td>@VirginAmerica and it's a really big bad thing...</td>\n",
       "      <td>really big bad thing</td>\n",
       "      <td>0</td>\n",
       "    </tr>\n",
       "    <tr>\n",
       "      <th>3</th>\n",
       "      <td>negative</td>\n",
       "      <td>Can't Tell</td>\n",
       "      <td>Virgin America</td>\n",
       "      <td>0</td>\n",
       "      <td>@VirginAmerica seriously would pay $30 a fligh...</td>\n",
       "      <td>seriously pay flight seat did playing really b...</td>\n",
       "      <td>0</td>\n",
       "    </tr>\n",
       "    <tr>\n",
       "      <th>4</th>\n",
       "      <td>positive</td>\n",
       "      <td>No Reason</td>\n",
       "      <td>Virgin America</td>\n",
       "      <td>0</td>\n",
       "      <td>@VirginAmerica yes, nearly every time I fly VX...</td>\n",
       "      <td>yes nearly time fly vx ear worm away</td>\n",
       "      <td>1</td>\n",
       "    </tr>\n",
       "  </tbody>\n",
       "</table>\n",
       "</div>"
      ],
      "text/plain": [
       "  airline_sentiment negativereason         airline  retweet_count  \\\n",
       "0          positive      No Reason  Virgin America              0   \n",
       "1          negative     Bad Flight  Virgin America              0   \n",
       "2          negative     Can't Tell  Virgin America              0   \n",
       "3          negative     Can't Tell  Virgin America              0   \n",
       "4          positive      No Reason  Virgin America              0   \n",
       "\n",
       "                                                text  \\\n",
       "0  @VirginAmerica plus you've added commercials t...   \n",
       "1  @VirginAmerica it's really aggressive to blast...   \n",
       "2  @VirginAmerica and it's a really big bad thing...   \n",
       "3  @VirginAmerica seriously would pay $30 a fligh...   \n",
       "4  @VirginAmerica yes, nearly every time I fly VX...   \n",
       "\n",
       "                                          text_clean  sentiment_num  \n",
       "0             plus added commercial experience tacky              1  \n",
       "1  really aggressive blast obnoxious entertainmen...              0  \n",
       "2                               really big bad thing              0  \n",
       "3  seriously pay flight seat did playing really b...              0  \n",
       "4               yes nearly time fly vx ear worm away              1  "
      ]
     },
     "execution_count": 3,
     "metadata": {},
     "output_type": "execute_result"
    }
   ],
   "source": [
    "#Create new column where positive sentiment is 0, negative sentiment is 1\n",
    "df['sentiment_num'] = df.airline_sentiment.map({'positive':1, 'negative':0})\n",
    "df.head()"
   ]
  },
  {
   "cell_type": "markdown",
   "id": "055a638e",
   "metadata": {},
   "source": [
    "## Splitting Train and Test Sets"
   ]
  },
  {
   "cell_type": "code",
   "execution_count": 4,
   "id": "cdf91365",
   "metadata": {},
   "outputs": [
    {
     "name": "stdout",
     "output_type": "stream",
     "text": [
      "(11523,)\n",
      "(11523,)\n"
     ]
    }
   ],
   "source": [
    "#Create features set (just text) and target set (just sentiment number)\n",
    "X = df.text_clean\n",
    "y = df.sentiment_num\n",
    "print(X.shape)\n",
    "print(y.shape)"
   ]
  },
  {
   "cell_type": "code",
   "execution_count": 5,
   "id": "d7b88330",
   "metadata": {},
   "outputs": [
    {
     "name": "stdout",
     "output_type": "stream",
     "text": [
      "(8066,)\n",
      "(3457,)\n",
      "(8066,)\n",
      "(3457,)\n"
     ]
    }
   ],
   "source": [
    "#split data into training and testing sets\n",
    "X_train, X_test, y_train, y_test = train_test_split(X, y, test_size = 0.3, stratify=y, random_state=1)\n",
    "print(X_train.shape)\n",
    "print(X_test.shape)\n",
    "print(y_train.shape)\n",
    "print(y_test.shape)"
   ]
  },
  {
   "cell_type": "markdown",
   "id": "928a2e39",
   "metadata": {},
   "source": [
    "## Vectorizing And Training"
   ]
  },
  {
   "cell_type": "markdown",
   "id": "e5764724",
   "metadata": {},
   "source": [
    "### Defining Pipelines\n",
    "\n",
    "To decide on best vectorizer and classifier combination, we will define a few pipelines and use GridSearchCV to find the optimal hyperparameters. We will use accuracy as our scoring parameter for each model. "
   ]
  },
  {
   "cell_type": "code",
   "execution_count": 6,
   "id": "54bb73d7",
   "metadata": {},
   "outputs": [],
   "source": [
    "#Initialize vectorizers and classifiers\n",
    "count_vect = CountVectorizer()\n",
    "tfidf_vect = TfidfVectorizer()\n",
    "lr = LogisticRegression()\n",
    "nb = MultinomialNB()\n",
    "svc = SVC()\n",
    "\n",
    "#Define each pipeline for each combination of vect and clf\n",
    "pipline_cv_lr = Pipeline([\n",
    "    ('vectorizer', count_vect),\n",
    "    ('classifier', lr)\n",
    "])\n",
    "\n",
    "pipline_cv_nb = Pipeline([\n",
    "    ('vectorizer', count_vect),\n",
    "    ('classifier', nb)\n",
    "])\n",
    "\n",
    "pipline_cv_svc = Pipeline([\n",
    "    ('vectorizer', count_vect),\n",
    "    ('classifier', svc)\n",
    "])\n",
    "\n",
    "pipline_tf_lr = Pipeline([\n",
    "    ('vectorizer', tfidf_vect),\n",
    "    ('classifier', lr)\n",
    "])\n",
    "\n",
    "pipline_tf_nb = Pipeline([\n",
    "    ('vectorizer', tfidf_vect),\n",
    "    ('classifier', nb)\n",
    "])\n",
    "\n",
    "pipline_tf_svc = Pipeline([\n",
    "    ('vectorizer', tfidf_vect),\n",
    "    ('classifier', svc)\n",
    "])\n",
    "\n",
    "#Define paramters for each pipeline\n",
    "params_lr = {\n",
    "    'vectorizer__min_df': [3,5,10],\n",
    "    'vectorizer__ngram_range': [(1,1), (1,2)],\n",
    "    'vectorizer__max_df': [0.75, 1.0],\n",
    "    'classifier__C': [0.1, 1, 10],\n",
    "    'classifier__max_iter': [1000]\n",
    "}\n",
    "\n",
    "params_nb = {\n",
    "    'vectorizer__min_df': [3,5,10,50],\n",
    "    'vectorizer__ngram_range': [(1,1), (1,2), (1,3)],\n",
    "    'vectorizer__max_df': [0.5, 0.75, 1.0],\n",
    "    'classifier__alpha': [0.1, 1, 10]\n",
    "}\n",
    "\n",
    "params_svc = {\n",
    "    'vectorizer__min_df': [3,5,10],\n",
    "    'vectorizer__ngram_range': [(1,1), (1,2)],\n",
    "    'vectorizer__max_df': [0.5, 0.75, 1.0],\n",
    "    'classifier__kernel': ['linear', 'rbf', 'poly'],\n",
    "    'classifier__gamma': ['scale', 'auto'],\n",
    "    'classifier__probability': [True]\n",
    "}"
   ]
  },
  {
   "cell_type": "code",
   "execution_count": 7,
   "id": "127374f6",
   "metadata": {},
   "outputs": [],
   "source": [
    "#Initialize each gridsearchcv object\n",
    "grid_cv_lr = GridSearchCV(pipline_cv_lr, params_lr, scoring='roc_auc', cv=3)\n",
    "grid_cv_nb = GridSearchCV(pipline_cv_nb, params_nb, scoring='roc_auc', cv=3)\n",
    "grid_cv_svc = GridSearchCV(pipline_cv_svc, params_svc, scoring='roc_auc', cv=3)\n",
    "grid_tf_lr = GridSearchCV(pipline_tf_lr, params_lr, scoring='roc_auc', cv=3)\n",
    "grid_tf_nb = GridSearchCV(pipline_tf_nb, params_nb, scoring='roc_auc', cv=3)\n",
    "grid_tf_svc = GridSearchCV(pipline_tf_svc, params_svc, scoring='roc_auc', cv=3)"
   ]
  },
  {
   "cell_type": "markdown",
   "id": "ad6c0c54",
   "metadata": {},
   "source": [
    "#### CountVectorizer & Logistic Regression Performance"
   ]
  },
  {
   "cell_type": "code",
   "execution_count": 8,
   "id": "08833901",
   "metadata": {},
   "outputs": [
    {
     "name": "stdout",
     "output_type": "stream",
     "text": [
      "CountVectorizer & Logistic Regression CV Performance\n",
      "Best parameters:  {'classifier__C': 1, 'classifier__max_iter': 1000, 'vectorizer__max_df': 0.75, 'vectorizer__min_df': 3, 'vectorizer__ngram_range': (1, 1)}\n",
      "Best score:  0.9378268998644176\n"
     ]
    }
   ],
   "source": [
    "grid_cv_lr.fit(X_train, y_train)\n",
    "\n",
    "print('CountVectorizer & Logistic Regression CV Performance')\n",
    "print('Best parameters: ', grid_cv_lr.best_params_)\n",
    "print('Best score: ', grid_cv_lr.best_score_ ) "
   ]
  },
  {
   "cell_type": "code",
   "execution_count": 9,
   "id": "2bb455ff",
   "metadata": {},
   "outputs": [
    {
     "data": {
      "text/plain": [
       "0.9478840169731259"
      ]
     },
     "execution_count": 9,
     "metadata": {},
     "output_type": "execute_result"
    }
   ],
   "source": [
    "vect1 = CountVectorizer(max_df = grid_cv_lr.best_params_['vectorizer__max_df'], \n",
    "                        min_df = grid_cv_lr.best_params_['vectorizer__min_df'], \n",
    "                        ngram_range = grid_cv_lr.best_params_['vectorizer__ngram_range'])\n",
    "X_train_dtm1 = vect1.fit_transform(X_train)\n",
    "X_test_dtm1 = vect1.transform(X_test)\n",
    "\n",
    "lr1 = LogisticRegression(C = grid_cv_lr.best_params_['classifier__C'], max_iter = 1000)\n",
    "lr1.fit(X_train_dtm1, y_train)\n",
    "metrics.roc_auc_score(y_test, lr1.predict_proba(X_test_dtm1)[:,1])"
   ]
  },
  {
   "cell_type": "markdown",
   "id": "161108cc",
   "metadata": {},
   "source": [
    "#### CountVectorizer & Multinomial Naive Bayes Performance"
   ]
  },
  {
   "cell_type": "code",
   "execution_count": 10,
   "id": "ee6a2932",
   "metadata": {},
   "outputs": [
    {
     "name": "stdout",
     "output_type": "stream",
     "text": [
      "CountVectorizer & Multinomial Naive Bayes CV Performance\n",
      "Best parameters:  {'classifier__alpha': 1, 'vectorizer__max_df': 0.5, 'vectorizer__min_df': 3, 'vectorizer__ngram_range': (1, 1)}\n",
      "Best score:  0.9363682365688671\n"
     ]
    }
   ],
   "source": [
    "grid_cv_nb.fit(X_train, y_train)\n",
    "\n",
    "print('CountVectorizer & Multinomial Naive Bayes CV Performance')\n",
    "print('Best parameters: ', grid_cv_nb.best_params_)\n",
    "print('Best score: ', grid_cv_nb.best_score_ ) "
   ]
  },
  {
   "cell_type": "code",
   "execution_count": 11,
   "id": "06fb9542",
   "metadata": {},
   "outputs": [
    {
     "data": {
      "text/plain": [
       "0.938934807766491"
      ]
     },
     "execution_count": 11,
     "metadata": {},
     "output_type": "execute_result"
    }
   ],
   "source": [
    "vect2 = CountVectorizer(max_df = grid_cv_nb.best_params_['vectorizer__max_df'], \n",
    "                        min_df = grid_cv_nb.best_params_['vectorizer__min_df'], \n",
    "                        ngram_range = grid_cv_nb.best_params_['vectorizer__ngram_range'])\n",
    "X_train_dtm2 = vect2.fit_transform(X_train)\n",
    "X_test_dtm2 = vect2.transform(X_test)\n",
    "\n",
    "nb1 = MultinomialNB(alpha = grid_cv_nb.best_params_['classifier__alpha'])\n",
    "nb1.fit(X_train_dtm2, y_train)\n",
    "metrics.roc_auc_score(y_test, nb1.predict_proba(X_test_dtm2)[:,1])"
   ]
  },
  {
   "cell_type": "markdown",
   "id": "292fafe1",
   "metadata": {},
   "source": [
    "#### CountVectorizer & Support Vector Classifier Performance"
   ]
  },
  {
   "cell_type": "code",
   "execution_count": 12,
   "id": "2a2a7751",
   "metadata": {},
   "outputs": [
    {
     "name": "stdout",
     "output_type": "stream",
     "text": [
      "CountVectorizer & Support Vector Classifier CV Performance\n",
      "Best parameters:  {'classifier__gamma': 'scale', 'classifier__kernel': 'rbf', 'classifier__probability': True, 'vectorizer__max_df': 0.5, 'vectorizer__min_df': 3, 'vectorizer__ngram_range': (1, 1)}\n",
      "Best score:  0.9303587782383946\n"
     ]
    }
   ],
   "source": [
    "grid_cv_svc.fit(X_train, y_train)\n",
    "\n",
    "print('CountVectorizer & Support Vector Classifier CV Performance')\n",
    "print('Best parameters: ', grid_cv_svc.best_params_)\n",
    "print('Best score: ', grid_cv_svc.best_score_ ) "
   ]
  },
  {
   "cell_type": "code",
   "execution_count": 13,
   "id": "06ed3f94",
   "metadata": {},
   "outputs": [
    {
     "data": {
      "text/plain": [
       "0.7853732801851614"
      ]
     },
     "execution_count": 13,
     "metadata": {},
     "output_type": "execute_result"
    }
   ],
   "source": [
    "vect3 = CountVectorizer(max_df = grid_cv_svc.best_params_['vectorizer__max_df'], \n",
    "                        min_df = grid_cv_svc.best_params_['vectorizer__min_df'], \n",
    "                        ngram_range = grid_cv_svc.best_params_['vectorizer__ngram_range'])\n",
    "X_train_dtm3 = vect3.fit_transform(X_train)\n",
    "X_test_dtm3 = vect3.transform(X_test)\n",
    "\n",
    "svc1 = SVC(kernel = grid_cv_svc.best_params_['classifier__kernel'], gamma = grid_cv_svc.best_params_['classifier__gamma'])\n",
    "svc1.fit(X_train_dtm3, y_train)\n",
    "metrics.roc_auc_score(y_test, svc1.predict(X_test_dtm3))"
   ]
  },
  {
   "cell_type": "markdown",
   "id": "da3e5857",
   "metadata": {},
   "source": [
    "#### TfidfVectorizer & Logistic Regression Performance"
   ]
  },
  {
   "cell_type": "code",
   "execution_count": 14,
   "id": "cb10da22",
   "metadata": {},
   "outputs": [
    {
     "name": "stdout",
     "output_type": "stream",
     "text": [
      "TfidfVectorizer & Logistic Regression CV Performance\n",
      "Best parameters:  {'classifier__C': 1, 'classifier__max_iter': 1000, 'vectorizer__max_df': 0.75, 'vectorizer__min_df': 3, 'vectorizer__ngram_range': (1, 1)}\n",
      "Best score:  0.9390340293926768\n"
     ]
    }
   ],
   "source": [
    "grid_tf_lr.fit(X_train, y_train)\n",
    "\n",
    "print('TfidfVectorizer & Logistic Regression CV Performance')\n",
    "print('Best parameters: ', grid_tf_lr.best_params_)\n",
    "print('Best score: ', grid_tf_lr.best_score_ ) "
   ]
  },
  {
   "cell_type": "code",
   "execution_count": 15,
   "id": "dba278b5",
   "metadata": {},
   "outputs": [
    {
     "data": {
      "text/plain": [
       "0.9470981098109811"
      ]
     },
     "execution_count": 15,
     "metadata": {},
     "output_type": "execute_result"
    }
   ],
   "source": [
    "vect4 = TfidfVectorizer(max_df = grid_tf_lr.best_params_['vectorizer__max_df'], \n",
    "                        min_df = grid_tf_lr.best_params_['vectorizer__min_df'], \n",
    "                        ngram_range = grid_tf_lr.best_params_['vectorizer__ngram_range'])\n",
    "X_train_dtm4 = vect4.fit_transform(X_train)\n",
    "X_test_dtm4 = vect4.transform(X_test)\n",
    "\n",
    "lr2 = LogisticRegression(C = grid_tf_lr.best_params_['classifier__C'], max_iter = 1000)\n",
    "lr2.fit(X_train_dtm4, y_train)\n",
    "metrics.roc_auc_score(y_test, lr2.predict_proba(X_test_dtm4)[:,1])"
   ]
  },
  {
   "cell_type": "markdown",
   "id": "cd6ac73d",
   "metadata": {},
   "source": [
    "#### TfidfVectorizer & Multinomial Naive Bayes Performance"
   ]
  },
  {
   "cell_type": "code",
   "execution_count": 16,
   "id": "c681e7c6",
   "metadata": {},
   "outputs": [
    {
     "name": "stdout",
     "output_type": "stream",
     "text": [
      "TfidfVectorizer & Multinomial Naive Bayes CV Performance\n",
      "Best parameters:  {'classifier__alpha': 0.1, 'vectorizer__max_df': 0.5, 'vectorizer__min_df': 3, 'vectorizer__ngram_range': (1, 1)}\n",
      "Best score:  0.9333647042362374\n"
     ]
    }
   ],
   "source": [
    "grid_tf_nb.fit(X_train, y_train)\n",
    "\n",
    "print('TfidfVectorizer & Multinomial Naive Bayes CV Performance')\n",
    "print('Best parameters: ', grid_tf_nb.best_params_)\n",
    "print('Best score: ', grid_tf_nb.best_score_ )"
   ]
  },
  {
   "cell_type": "code",
   "execution_count": 17,
   "id": "8d2474ea",
   "metadata": {},
   "outputs": [
    {
     "data": {
      "text/plain": [
       "0.9374239423942393"
      ]
     },
     "execution_count": 17,
     "metadata": {},
     "output_type": "execute_result"
    }
   ],
   "source": [
    "vect5 = TfidfVectorizer(max_df = grid_tf_nb.best_params_['vectorizer__max_df'], \n",
    "                        min_df = grid_tf_nb.best_params_['vectorizer__min_df'], \n",
    "                        ngram_range = grid_tf_nb.best_params_['vectorizer__ngram_range'])\n",
    "X_train_dtm5 = vect5.fit_transform(X_train)\n",
    "X_test_dtm5 = vect5.transform(X_test)\n",
    "\n",
    "nb2 = MultinomialNB(alpha = grid_tf_nb.best_params_['classifier__alpha'])\n",
    "nb2.fit(X_train_dtm5, y_train)\n",
    "metrics.roc_auc_score(y_test, nb2.predict_proba(X_test_dtm5)[:,1])"
   ]
  },
  {
   "cell_type": "markdown",
   "id": "5cfad8b0",
   "metadata": {},
   "source": [
    "#### TfidfVectorizer & Support Vector Classifier Performance"
   ]
  },
  {
   "cell_type": "code",
   "execution_count": 18,
   "id": "0127b836",
   "metadata": {},
   "outputs": [
    {
     "name": "stdout",
     "output_type": "stream",
     "text": [
      "TfidfVectorizer & Support Vector Classifier CV Performance\n",
      "Best parameters:  {'classifier__gamma': 'scale', 'classifier__kernel': 'rbf', 'classifier__probability': True, 'vectorizer__max_df': 0.5, 'vectorizer__min_df': 3, 'vectorizer__ngram_range': (1, 1)}\n",
      "Best score:  0.9365146164457628\n"
     ]
    }
   ],
   "source": [
    "grid_tf_svc.fit(X_train, y_train)\n",
    "\n",
    "print('TfidfVectorizer & Support Vector Classifier CV Performance')\n",
    "print('Best parameters: ', grid_tf_svc.best_params_)\n",
    "print('Best score: ', grid_tf_svc.best_score_ )"
   ]
  },
  {
   "cell_type": "code",
   "execution_count": 19,
   "id": "402a69d8",
   "metadata": {},
   "outputs": [
    {
     "data": {
      "text/plain": [
       "0.7977796065320817"
      ]
     },
     "execution_count": 19,
     "metadata": {},
     "output_type": "execute_result"
    }
   ],
   "source": [
    "vect6 = TfidfVectorizer(max_df = grid_tf_svc.best_params_['vectorizer__max_df'], \n",
    "                        min_df = grid_tf_svc.best_params_['vectorizer__min_df'], \n",
    "                        ngram_range = grid_tf_svc.best_params_['vectorizer__ngram_range'])\n",
    "X_train_dtm6 = vect6.fit_transform(X_train)\n",
    "X_test_dtm6 = vect6.transform(X_test)\n",
    "\n",
    "svc2 = SVC(kernel = grid_cv_svc.best_params_['classifier__kernel'], gamma = grid_cv_svc.best_params_['classifier__gamma'])\n",
    "svc2.fit(X_train_dtm6, y_train)\n",
    "metrics.roc_auc_score(y_test, svc2.predict(X_test_dtm6))"
   ]
  },
  {
   "cell_type": "markdown",
   "id": "60448dcf",
   "metadata": {},
   "source": [
    "### Evaluating the Best Model\n",
    "\n",
    "We can see that the CountVectorizer and Logistic Regression had the best roc auc score on the test set. Let's use this as our final model and look further at the performance of this model. "
   ]
  },
  {
   "cell_type": "code",
   "execution_count": 20,
   "id": "557cd431",
   "metadata": {},
   "outputs": [],
   "source": [
    "#Redefine names of vectorizers, sets, and model for ease of further evaluation\n",
    "vect = CountVectorizer(max_df = grid_cv_lr.best_params_['vectorizer__max_df'], \n",
    "                       min_df = grid_cv_lr.best_params_['vectorizer__min_df'], \n",
    "                       ngram_range = grid_cv_lr.best_params_['vectorizer__ngram_range'])\n",
    "X_train_dtm = vect.fit_transform(X_train)\n",
    "X_test_dtm = vect.transform(X_test)\n",
    "\n",
    "lr = LogisticRegression(C = grid_cv_lr.best_params_['classifier__C'], max_iter = 1000)\n",
    "lr.fit(X_train_dtm, y_train)\n",
    "y_pred_train = lr.predict_proba(X_train_dtm)[:,1]\n",
    "y_pred_test = lr.predict_proba(X_test_dtm)[:,1]"
   ]
  },
  {
   "cell_type": "code",
   "execution_count": 21,
   "id": "01100a95",
   "metadata": {},
   "outputs": [
    {
     "data": {
      "text/html": [
       "<div>\n",
       "<style scoped>\n",
       "    .dataframe tbody tr th:only-of-type {\n",
       "        vertical-align: middle;\n",
       "    }\n",
       "\n",
       "    .dataframe tbody tr th {\n",
       "        vertical-align: top;\n",
       "    }\n",
       "\n",
       "    .dataframe thead th {\n",
       "        text-align: right;\n",
       "    }\n",
       "</style>\n",
       "<table border=\"1\" class=\"dataframe\">\n",
       "  <thead>\n",
       "    <tr style=\"text-align: right;\">\n",
       "      <th></th>\n",
       "      <th>aa</th>\n",
       "      <th>abc</th>\n",
       "      <th>ability</th>\n",
       "      <th>able</th>\n",
       "      <th>abq</th>\n",
       "      <th>absolute</th>\n",
       "      <th>absolutely</th>\n",
       "      <th>absurd</th>\n",
       "      <th>abysmal</th>\n",
       "      <th>ac</th>\n",
       "      <th>...</th>\n",
       "      <th>york</th>\n",
       "      <th>young</th>\n",
       "      <th>yous</th>\n",
       "      <th>yr</th>\n",
       "      <th>yuma</th>\n",
       "      <th>yup</th>\n",
       "      <th>yyz</th>\n",
       "      <th>zero</th>\n",
       "      <th>zone</th>\n",
       "      <th>zurich</th>\n",
       "    </tr>\n",
       "  </thead>\n",
       "  <tbody>\n",
       "    <tr>\n",
       "      <th>0</th>\n",
       "      <td>0</td>\n",
       "      <td>0</td>\n",
       "      <td>0</td>\n",
       "      <td>0</td>\n",
       "      <td>0</td>\n",
       "      <td>0</td>\n",
       "      <td>0</td>\n",
       "      <td>0</td>\n",
       "      <td>0</td>\n",
       "      <td>0</td>\n",
       "      <td>...</td>\n",
       "      <td>0</td>\n",
       "      <td>0</td>\n",
       "      <td>0</td>\n",
       "      <td>0</td>\n",
       "      <td>0</td>\n",
       "      <td>0</td>\n",
       "      <td>0</td>\n",
       "      <td>0</td>\n",
       "      <td>0</td>\n",
       "      <td>0</td>\n",
       "    </tr>\n",
       "    <tr>\n",
       "      <th>1</th>\n",
       "      <td>0</td>\n",
       "      <td>0</td>\n",
       "      <td>0</td>\n",
       "      <td>0</td>\n",
       "      <td>0</td>\n",
       "      <td>0</td>\n",
       "      <td>0</td>\n",
       "      <td>0</td>\n",
       "      <td>0</td>\n",
       "      <td>0</td>\n",
       "      <td>...</td>\n",
       "      <td>0</td>\n",
       "      <td>0</td>\n",
       "      <td>0</td>\n",
       "      <td>0</td>\n",
       "      <td>0</td>\n",
       "      <td>0</td>\n",
       "      <td>0</td>\n",
       "      <td>0</td>\n",
       "      <td>0</td>\n",
       "      <td>0</td>\n",
       "    </tr>\n",
       "    <tr>\n",
       "      <th>2</th>\n",
       "      <td>0</td>\n",
       "      <td>0</td>\n",
       "      <td>0</td>\n",
       "      <td>0</td>\n",
       "      <td>0</td>\n",
       "      <td>0</td>\n",
       "      <td>0</td>\n",
       "      <td>0</td>\n",
       "      <td>0</td>\n",
       "      <td>0</td>\n",
       "      <td>...</td>\n",
       "      <td>0</td>\n",
       "      <td>0</td>\n",
       "      <td>0</td>\n",
       "      <td>0</td>\n",
       "      <td>0</td>\n",
       "      <td>0</td>\n",
       "      <td>0</td>\n",
       "      <td>0</td>\n",
       "      <td>0</td>\n",
       "      <td>0</td>\n",
       "    </tr>\n",
       "    <tr>\n",
       "      <th>3</th>\n",
       "      <td>0</td>\n",
       "      <td>0</td>\n",
       "      <td>0</td>\n",
       "      <td>0</td>\n",
       "      <td>0</td>\n",
       "      <td>0</td>\n",
       "      <td>0</td>\n",
       "      <td>0</td>\n",
       "      <td>0</td>\n",
       "      <td>0</td>\n",
       "      <td>...</td>\n",
       "      <td>0</td>\n",
       "      <td>0</td>\n",
       "      <td>0</td>\n",
       "      <td>0</td>\n",
       "      <td>0</td>\n",
       "      <td>0</td>\n",
       "      <td>0</td>\n",
       "      <td>0</td>\n",
       "      <td>0</td>\n",
       "      <td>0</td>\n",
       "    </tr>\n",
       "    <tr>\n",
       "      <th>4</th>\n",
       "      <td>0</td>\n",
       "      <td>0</td>\n",
       "      <td>0</td>\n",
       "      <td>0</td>\n",
       "      <td>0</td>\n",
       "      <td>0</td>\n",
       "      <td>0</td>\n",
       "      <td>0</td>\n",
       "      <td>0</td>\n",
       "      <td>0</td>\n",
       "      <td>...</td>\n",
       "      <td>0</td>\n",
       "      <td>0</td>\n",
       "      <td>0</td>\n",
       "      <td>0</td>\n",
       "      <td>0</td>\n",
       "      <td>0</td>\n",
       "      <td>0</td>\n",
       "      <td>0</td>\n",
       "      <td>0</td>\n",
       "      <td>0</td>\n",
       "    </tr>\n",
       "    <tr>\n",
       "      <th>...</th>\n",
       "      <td>...</td>\n",
       "      <td>...</td>\n",
       "      <td>...</td>\n",
       "      <td>...</td>\n",
       "      <td>...</td>\n",
       "      <td>...</td>\n",
       "      <td>...</td>\n",
       "      <td>...</td>\n",
       "      <td>...</td>\n",
       "      <td>...</td>\n",
       "      <td>...</td>\n",
       "      <td>...</td>\n",
       "      <td>...</td>\n",
       "      <td>...</td>\n",
       "      <td>...</td>\n",
       "      <td>...</td>\n",
       "      <td>...</td>\n",
       "      <td>...</td>\n",
       "      <td>...</td>\n",
       "      <td>...</td>\n",
       "      <td>...</td>\n",
       "    </tr>\n",
       "    <tr>\n",
       "      <th>8061</th>\n",
       "      <td>0</td>\n",
       "      <td>0</td>\n",
       "      <td>0</td>\n",
       "      <td>0</td>\n",
       "      <td>0</td>\n",
       "      <td>0</td>\n",
       "      <td>0</td>\n",
       "      <td>0</td>\n",
       "      <td>0</td>\n",
       "      <td>0</td>\n",
       "      <td>...</td>\n",
       "      <td>0</td>\n",
       "      <td>0</td>\n",
       "      <td>0</td>\n",
       "      <td>0</td>\n",
       "      <td>0</td>\n",
       "      <td>0</td>\n",
       "      <td>0</td>\n",
       "      <td>0</td>\n",
       "      <td>0</td>\n",
       "      <td>0</td>\n",
       "    </tr>\n",
       "    <tr>\n",
       "      <th>8062</th>\n",
       "      <td>0</td>\n",
       "      <td>0</td>\n",
       "      <td>0</td>\n",
       "      <td>0</td>\n",
       "      <td>0</td>\n",
       "      <td>0</td>\n",
       "      <td>0</td>\n",
       "      <td>0</td>\n",
       "      <td>0</td>\n",
       "      <td>0</td>\n",
       "      <td>...</td>\n",
       "      <td>0</td>\n",
       "      <td>0</td>\n",
       "      <td>0</td>\n",
       "      <td>0</td>\n",
       "      <td>0</td>\n",
       "      <td>0</td>\n",
       "      <td>0</td>\n",
       "      <td>0</td>\n",
       "      <td>0</td>\n",
       "      <td>0</td>\n",
       "    </tr>\n",
       "    <tr>\n",
       "      <th>8063</th>\n",
       "      <td>0</td>\n",
       "      <td>0</td>\n",
       "      <td>0</td>\n",
       "      <td>0</td>\n",
       "      <td>0</td>\n",
       "      <td>0</td>\n",
       "      <td>0</td>\n",
       "      <td>0</td>\n",
       "      <td>0</td>\n",
       "      <td>0</td>\n",
       "      <td>...</td>\n",
       "      <td>0</td>\n",
       "      <td>0</td>\n",
       "      <td>0</td>\n",
       "      <td>0</td>\n",
       "      <td>0</td>\n",
       "      <td>0</td>\n",
       "      <td>0</td>\n",
       "      <td>0</td>\n",
       "      <td>0</td>\n",
       "      <td>0</td>\n",
       "    </tr>\n",
       "    <tr>\n",
       "      <th>8064</th>\n",
       "      <td>0</td>\n",
       "      <td>0</td>\n",
       "      <td>0</td>\n",
       "      <td>0</td>\n",
       "      <td>0</td>\n",
       "      <td>0</td>\n",
       "      <td>0</td>\n",
       "      <td>0</td>\n",
       "      <td>0</td>\n",
       "      <td>0</td>\n",
       "      <td>...</td>\n",
       "      <td>0</td>\n",
       "      <td>0</td>\n",
       "      <td>0</td>\n",
       "      <td>0</td>\n",
       "      <td>0</td>\n",
       "      <td>0</td>\n",
       "      <td>0</td>\n",
       "      <td>0</td>\n",
       "      <td>0</td>\n",
       "      <td>0</td>\n",
       "    </tr>\n",
       "    <tr>\n",
       "      <th>8065</th>\n",
       "      <td>0</td>\n",
       "      <td>0</td>\n",
       "      <td>0</td>\n",
       "      <td>0</td>\n",
       "      <td>0</td>\n",
       "      <td>0</td>\n",
       "      <td>0</td>\n",
       "      <td>0</td>\n",
       "      <td>0</td>\n",
       "      <td>0</td>\n",
       "      <td>...</td>\n",
       "      <td>0</td>\n",
       "      <td>0</td>\n",
       "      <td>0</td>\n",
       "      <td>0</td>\n",
       "      <td>0</td>\n",
       "      <td>0</td>\n",
       "      <td>0</td>\n",
       "      <td>0</td>\n",
       "      <td>0</td>\n",
       "      <td>0</td>\n",
       "    </tr>\n",
       "  </tbody>\n",
       "</table>\n",
       "<p>8066 rows × 2460 columns</p>\n",
       "</div>"
      ],
      "text/plain": [
       "      aa  abc  ability  able  abq  absolute  absolutely  absurd  abysmal  ac  \\\n",
       "0      0    0        0     0    0         0           0       0        0   0   \n",
       "1      0    0        0     0    0         0           0       0        0   0   \n",
       "2      0    0        0     0    0         0           0       0        0   0   \n",
       "3      0    0        0     0    0         0           0       0        0   0   \n",
       "4      0    0        0     0    0         0           0       0        0   0   \n",
       "...   ..  ...      ...   ...  ...       ...         ...     ...      ...  ..   \n",
       "8061   0    0        0     0    0         0           0       0        0   0   \n",
       "8062   0    0        0     0    0         0           0       0        0   0   \n",
       "8063   0    0        0     0    0         0           0       0        0   0   \n",
       "8064   0    0        0     0    0         0           0       0        0   0   \n",
       "8065   0    0        0     0    0         0           0       0        0   0   \n",
       "\n",
       "      ...  york  young  yous  yr  yuma  yup  yyz  zero  zone  zurich  \n",
       "0     ...     0      0     0   0     0    0    0     0     0       0  \n",
       "1     ...     0      0     0   0     0    0    0     0     0       0  \n",
       "2     ...     0      0     0   0     0    0    0     0     0       0  \n",
       "3     ...     0      0     0   0     0    0    0     0     0       0  \n",
       "4     ...     0      0     0   0     0    0    0     0     0       0  \n",
       "...   ...   ...    ...   ...  ..   ...  ...  ...   ...   ...     ...  \n",
       "8061  ...     0      0     0   0     0    0    0     0     0       0  \n",
       "8062  ...     0      0     0   0     0    0    0     0     0       0  \n",
       "8063  ...     0      0     0   0     0    0    0     0     0       0  \n",
       "8064  ...     0      0     0   0     0    0    0     0     0       0  \n",
       "8065  ...     0      0     0   0     0    0    0     0     0       0  \n",
       "\n",
       "[8066 rows x 2460 columns]"
      ]
     },
     "execution_count": 21,
     "metadata": {},
     "output_type": "execute_result"
    }
   ],
   "source": [
    "#Look at the train set as a pandas Dataframe\n",
    "pd.DataFrame(X_train_dtm.toarray(), columns=vect.get_feature_names())"
   ]
  },
  {
   "cell_type": "code",
   "execution_count": 22,
   "id": "acb6d9d3",
   "metadata": {},
   "outputs": [
    {
     "data": {
      "text/plain": [
       "scipy.sparse.csr.csr_matrix"
      ]
     },
     "execution_count": 22,
     "metadata": {},
     "output_type": "execute_result"
    }
   ],
   "source": [
    "type(X_train_dtm)"
   ]
  },
  {
   "cell_type": "markdown",
   "id": "84345861",
   "metadata": {},
   "source": [
    "We can see this a sparse matrix (lots of zeros). We can also see that a lot of these words are nonsensical, probably typos, etc. but they may create noise in our model. We will attempt later on to find only the most important words and use those as our feature set. First, lets see how a prediction model works on this feature set. "
   ]
  },
  {
   "cell_type": "code",
   "execution_count": 23,
   "id": "6586713d",
   "metadata": {},
   "outputs": [
    {
     "name": "stdout",
     "output_type": "stream",
     "text": [
      "Accuracy on training data:   0.948\n",
      "Accuracy on test data:       0.906\n",
      "ROC AUC Score on train data: 0.986\n",
      "ROC AUC Score on test data:  0.948\n"
     ]
    }
   ],
   "source": [
    "print (\"Accuracy on training data:   %0.3f\" % (lr.score(X_train_dtm, y_train)))\n",
    "print (\"Accuracy on test data:       %0.3f\" % (lr.score(X_test_dtm, y_test)))\n",
    "print (\"ROC AUC Score on train data: %0.3f\" % (metrics.roc_auc_score(y_train, y_pred_train)))\n",
    "print (\"ROC AUC Score on test data:  %0.3f\" % (metrics.roc_auc_score(y_test, y_pred_test)))"
   ]
  },
  {
   "cell_type": "markdown",
   "id": "cb24bb7c",
   "metadata": {},
   "source": [
    "We can see that this model performs quite well. It also does not seem to be overfitting the training data as the accuracy on the test data looks good as well. \n",
    "\n",
    "Let's now find the find the optimal threshold for the model to make it even better. To do so, we will be taking a look at precision, recall, and f1 score across all thresholds. "
   ]
  },
  {
   "cell_type": "code",
   "execution_count": 24,
   "id": "48c42fe5",
   "metadata": {},
   "outputs": [],
   "source": [
    "#Defining a function that returns precision recall and f_beta score\n",
    "#We will plot them against different thresholds\n",
    "\n",
    "def precision_recall(model, X_test, y_test, threshold, beta = 1):\n",
    "    \n",
    "    y_pred = (model.predict_proba(X_test)[:,1] >= threshold).astype(bool)\n",
    "    matrix = metrics.confusion_matrix(y_test, y_pred)\n",
    "    \n",
    "    #print(threshold,'\\n', matrix)\n",
    "    \n",
    "    tn = matrix[0,0] # tweets predicted to be negative and were negative\n",
    "    tp = matrix[1,1] # tweets predicted to be positive and were positive\n",
    "    fp = matrix[0,1] # tweets predicted to be positive and were negative\n",
    "    fn = matrix[1,0] # tweets predicted to be negative and were positive\n",
    "    \n",
    "    precision = tp/(tp+fp)\n",
    "    recall = tp/(tp+fn)\n",
    "    #fdr = fp/(fp+tp)\n",
    "    f_beta = metrics.fbeta_score(y_test, y_pred, beta=beta)\n",
    "    \n",
    "    return([precision, recall, f_beta])"
   ]
  },
  {
   "cell_type": "code",
   "execution_count": 25,
   "id": "f597eb62",
   "metadata": {},
   "outputs": [],
   "source": [
    "threshold_df_alc = pd.DataFrame(columns=['Precision','Recall', 'F1 Score'])\n",
    "\n",
    "for threshold in sorted(set(lr.predict_proba(X_test_dtm)[:,1])):\n",
    "    threshold_df_alc.loc[threshold] = precision_recall(lr, X_test_dtm, y_test, threshold)"
   ]
  },
  {
   "cell_type": "code",
   "execution_count": 26,
   "id": "0b62deab",
   "metadata": {},
   "outputs": [
    {
     "data": {
      "text/plain": [
       "Text(0.4, 0.55, 'Optimal Threshold')"
      ]
     },
     "execution_count": 26,
     "metadata": {},
     "output_type": "execute_result"
    },
    {
     "data": {
      "image/png": "[encoded data removed]",
      "text/plain": [
       "<Figure size 1080x648 with 1 Axes>"
      ]
     },
     "metadata": {
      "needs_background": "light"
     },
     "output_type": "display_data"
    }
   ],
   "source": [
    "ax = threshold_df_alc.plot(figsize=(15,9))\n",
    "ax.set_xlabel('Threshold')\n",
    "ax.set_title('Precision-Recall vs. Threshold')\n",
    "ax.axvline(0.386, color='black', alpha=0.3)\n",
    "ax.text(.4,.55,'Optimal Threshold',rotation=90, alpha=0.8, fontsize=14)"
   ]
  },
  {
   "cell_type": "code",
   "execution_count": 27,
   "id": "6efaed73",
   "metadata": {},
   "outputs": [
    {
     "data": {
      "image/png": "[encoded data removed]",
      "text/plain": [
       "<Figure size 432x288 with 2 Axes>"
      ]
     },
     "metadata": {
      "needs_background": "light"
     },
     "output_type": "display_data"
    }
   ],
   "source": [
    "#Let's look at the confusion matrix for the test\n",
    "cm = metrics.confusion_matrix(y_test, lr.predict_proba(X_test_dtm)[:,1] > 0.386)\n",
    "disp = metrics.ConfusionMatrixDisplay(confusion_matrix=cm)\n",
    "disp.plot()\n",
    "plt.show()"
   ]
  },
  {
   "cell_type": "code",
   "execution_count": 28,
   "id": "6eb4e2d5",
   "metadata": {},
   "outputs": [
    {
     "name": "stdout",
     "output_type": "stream",
     "text": [
      "              precision    recall  f1-score   support\n",
      "\n",
      "           0       0.94      0.95      0.95      2750\n",
      "           1       0.80      0.76      0.78       707\n",
      "\n",
      "    accuracy                           0.91      3457\n",
      "   macro avg       0.87      0.86      0.86      3457\n",
      "weighted avg       0.91      0.91      0.91      3457\n",
      "\n"
     ]
    }
   ],
   "source": [
    "print(metrics.classification_report(y_test, lr.predict_proba(X_test_dtm)[:,1] > 0.386))"
   ]
  },
  {
   "cell_type": "code",
   "execution_count": 29,
   "id": "62879d7a",
   "metadata": {},
   "outputs": [
    {
     "data": {
      "text/plain": [
       "2163     thank reply emailed customer care department e...\n",
       "2800                           thanks come hell high water\n",
       "7968       best pleased service far gate guarantee correct\n",
       "7532     thank correctly interpreting tweet non sarcast...\n",
       "4849     just wanted southwest know think great used an...\n",
       "5958     jetblue thanks including u tour did pack winte...\n",
       "1897     thank reply frustration spending upgrade just ...\n",
       "320      grouping virgin bos weather ha exposed actual ...\n",
       "4311     city nationwide sale ha fabulous fare buffalo ...\n",
       "1075     announce roller want coat choice gate checked ...\n",
       "3083     thanks reaching seat wa hard cushion ok short ...\n",
       "10189    really appreciate great customer service servi...\n",
       "10892                              finally got phone worry\n",
       "8228              send email late flightr thank responding\n",
       "9646                                          bot haha lie\n",
       "2177     loyalty team basically flipped phone thanks ma...\n",
       "8965     saving grace wa flight attendant dallas wa ama...\n",
       "4523         landing ric right left atl picked delta maybe\n",
       "5444     thank really responding request sending generi...\n",
       "2466     thanks great news refund ticket bad exchange r...\n",
       "Name: text_clean, dtype: object"
      ]
     },
     "execution_count": 29,
     "metadata": {},
     "output_type": "execute_result"
    }
   ],
   "source": [
    "# print message text for the false positives (negative tweets incorrectly labeled as positive)\n",
    "y_positive = lr.predict_proba(X_test_dtm)[:,1] > 0.386\n",
    "X_test[y_test < y_positive.astype(int)].head(20)"
   ]
  },
  {
   "cell_type": "code",
   "execution_count": 30,
   "id": "d5aad9a2",
   "metadata": {},
   "outputs": [
    {
     "data": {
      "text/plain": [
       "'thank correctly interpreting tweet non sarcastic delaying flight yyz terminal dance party'"
      ]
     },
     "execution_count": 30,
     "metadata": {},
     "output_type": "execute_result"
    }
   ],
   "source": [
    "X_test[7532]"
   ]
  },
  {
   "cell_type": "markdown",
   "id": "49661b60",
   "metadata": {},
   "source": [
    "We can see words like \"thank\", \"best\", \"great\", \"pleased\", etc. were in the tweets that were incorrectly labeled as positive. We can see that this classifier is not very good at picking up sarcasm."
   ]
  },
  {
   "cell_type": "code",
   "execution_count": 31,
   "id": "4b13da12",
   "metadata": {},
   "outputs": [
    {
     "data": {
      "text/plain": [
       "7713     reaccommodation number lisa liza raleigh wa he...\n",
       "6084     makingloveoutofnothingatall brandloveaffair la...\n",
       "822      outsource united airlinesyour customer just lo...\n",
       "3864                     got just time wife th anniversary\n",
       "11186    shoutout agent duty gate b abq outstanding cus...\n",
       "10732    thanks following think fair refund ticket pric...\n",
       "10165                         dollar rt ticket chicago yes\n",
       "244                                 ok time flying tonight\n",
       "3212     chicago hometown airline care neighbor savethe...\n",
       "1271     wonderful job today got wife daughter pgh orla...\n",
       "6362                            way wa samantha won flight\n",
       "3478                                    used fly southwest\n",
       "4977                                               respect\n",
       "8700                                           sunday wait\n",
       "3392     doing good thing holding flight peep late flig...\n",
       "6383     really nice snack fridgethat just stuff like d...\n",
       "1298                            finally rep solved problem\n",
       "7535     ann marie lga best ticket agent excellentcusto...\n",
       "1948     flight cancelled flighted trip refunded diffic...\n",
       "10441    kudos ticket agent making passenger check bag ...\n",
       "Name: text_clean, dtype: object"
      ]
     },
     "execution_count": 31,
     "metadata": {},
     "output_type": "execute_result"
    }
   ],
   "source": [
    "# print message text for the false negatives (positive tweets incorrectly labeled as negative)\n",
    "X_test[y_test > y_positive.astype(int)].head(20)"
   ]
  },
  {
   "cell_type": "code",
   "execution_count": 32,
   "id": "d7ee2187",
   "metadata": {},
   "outputs": [
    {
     "data": {
      "text/plain": [
       "'flight cancelled flighted trip refunded difficulty staff extremely helpful complaint way handle bad weather'"
      ]
     },
     "execution_count": 32,
     "metadata": {},
     "output_type": "execute_result"
    }
   ],
   "source": [
    "X_test[1948]"
   ]
  },
  {
   "cell_type": "markdown",
   "id": "a630a6ac",
   "metadata": {},
   "source": [
    "Here, we can see words like \"cancelled\", \"refund\", \"time\", etc. were in the tweets that were incorrectly labeled as negative. It will be interesting to see the strength that each word or ngram holds in making this classification decision. "
   ]
  },
  {
   "cell_type": "markdown",
   "id": "60e1ce5a",
   "metadata": {},
   "source": [
    "#### Identify Strongly Predictive Features"
   ]
  },
  {
   "cell_type": "code",
   "execution_count": 33,
   "id": "5405e6bc",
   "metadata": {},
   "outputs": [
    {
     "name": "stdout",
     "output_type": "stream",
     "text": [
      "Good words\t     P(fresh | word)\n",
      "               thank 0.92\n",
      "              thanks 0.85\n",
      "             amazing 0.84\n",
      "             awesome 0.81\n",
      "               great 0.81\n",
      "               kudos 0.79\n",
      "           excellent 0.78\n",
      "                love 0.76\n",
      "           wonderful 0.76\n",
      "            thankful 0.76\n",
      "Bad words\t     P(fresh | word)\n",
      "                paid 0.07\n",
      "              online 0.07\n",
      "        disappointed 0.06\n",
      "                hold 0.06\n",
      "                rude 0.06\n",
      "             delayed 0.05\n",
      "                hour 0.05\n",
      "             website 0.05\n",
      "             luggage 0.04\n",
      "               worst 0.02\n"
     ]
    }
   ],
   "source": [
    "words = np.array(vect.get_feature_names())\n",
    "\n",
    "x = np.eye(X_test_dtm.shape[1])\n",
    "probs = lr.predict_log_proba(x)[:, 0]\n",
    "ind = np.argsort(probs)\n",
    "\n",
    "good_words = words[ind[:10]]\n",
    "bad_words = words[ind[-10:]]\n",
    "\n",
    "good_prob = probs[ind[:10]]\n",
    "bad_prob = probs[ind[-10:]]\n",
    "\n",
    "pred_strength = pd.DataFrame({'tokens':words, 'probability':1-np.exp(probs)})\n",
    "\n",
    "print(\"Good words\\t     P(fresh | word)\")\n",
    "for w, p in zip(good_words, good_prob):\n",
    "    print(\"{:>20}\".format(w), \"{:.2f}\".format(1 - np.exp(p)))\n",
    "    \n",
    "print(\"Bad words\\t     P(fresh | word)\")\n",
    "for w, p in zip(bad_words, bad_prob):\n",
    "    print(\"{:>20}\".format(w), \"{:.2f}\".format(1 - np.exp(p)))"
   ]
  },
  {
   "cell_type": "code",
   "execution_count": 34,
   "id": "4e227a0d",
   "metadata": {},
   "outputs": [
    {
     "data": {
      "text/html": [
       "<div>\n",
       "<style scoped>\n",
       "    .dataframe tbody tr th:only-of-type {\n",
       "        vertical-align: middle;\n",
       "    }\n",
       "\n",
       "    .dataframe tbody tr th {\n",
       "        vertical-align: top;\n",
       "    }\n",
       "\n",
       "    .dataframe thead th {\n",
       "        text-align: right;\n",
       "    }\n",
       "</style>\n",
       "<table border=\"1\" class=\"dataframe\">\n",
       "  <thead>\n",
       "    <tr style=\"text-align: right;\">\n",
       "      <th></th>\n",
       "      <th>tokens</th>\n",
       "      <th>probability</th>\n",
       "    </tr>\n",
       "  </thead>\n",
       "  <tbody>\n",
       "    <tr>\n",
       "      <th>2419</th>\n",
       "      <td>worst</td>\n",
       "      <td>0.020467</td>\n",
       "    </tr>\n",
       "    <tr>\n",
       "      <th>1308</th>\n",
       "      <td>luggage</td>\n",
       "      <td>0.044146</td>\n",
       "    </tr>\n",
       "    <tr>\n",
       "      <th>2375</th>\n",
       "      <td>website</td>\n",
       "      <td>0.051207</td>\n",
       "    </tr>\n",
       "    <tr>\n",
       "      <th>1070</th>\n",
       "      <td>hour</td>\n",
       "      <td>0.051961</td>\n",
       "    </tr>\n",
       "    <tr>\n",
       "      <th>572</th>\n",
       "      <td>delayed</td>\n",
       "      <td>0.052892</td>\n",
       "    </tr>\n",
       "    <tr>\n",
       "      <th>...</th>\n",
       "      <td>...</td>\n",
       "      <td>...</td>\n",
       "    </tr>\n",
       "    <tr>\n",
       "      <th>969</th>\n",
       "      <td>great</td>\n",
       "      <td>0.806079</td>\n",
       "    </tr>\n",
       "    <tr>\n",
       "      <th>175</th>\n",
       "      <td>awesome</td>\n",
       "      <td>0.810995</td>\n",
       "    </tr>\n",
       "    <tr>\n",
       "      <th>75</th>\n",
       "      <td>amazing</td>\n",
       "      <td>0.836559</td>\n",
       "    </tr>\n",
       "    <tr>\n",
       "      <th>2169</th>\n",
       "      <td>thanks</td>\n",
       "      <td>0.847584</td>\n",
       "    </tr>\n",
       "    <tr>\n",
       "      <th>2166</th>\n",
       "      <td>thank</td>\n",
       "      <td>0.918566</td>\n",
       "    </tr>\n",
       "  </tbody>\n",
       "</table>\n",
       "<p>2460 rows × 2 columns</p>\n",
       "</div>"
      ],
      "text/plain": [
       "       tokens  probability\n",
       "2419    worst     0.020467\n",
       "1308  luggage     0.044146\n",
       "2375  website     0.051207\n",
       "1070     hour     0.051961\n",
       "572   delayed     0.052892\n",
       "...       ...          ...\n",
       "969     great     0.806079\n",
       "175   awesome     0.810995\n",
       "75    amazing     0.836559\n",
       "2169   thanks     0.847584\n",
       "2166    thank     0.918566\n",
       "\n",
       "[2460 rows x 2 columns]"
      ]
     },
     "execution_count": 34,
     "metadata": {},
     "output_type": "execute_result"
    }
   ],
   "source": [
    "pred_strength.sort_values('probability')"
   ]
  },
  {
   "cell_type": "markdown",
   "id": "7dfc33c2",
   "metadata": {},
   "source": [
    "## Modeling by Airline"
   ]
  },
  {
   "cell_type": "markdown",
   "id": "672bb179",
   "metadata": {},
   "source": [
    "We now want to build the model to classify positive and negative tweets for each airline as well as find the strongly predictive words for each. To do so, we will first attempt this by splitting the dataset by airline and modeling individually. We will then try to accomplish this by adding a new column that includes both sentiment and airline, and try to model as a multi-class classification. "
   ]
  },
  {
   "cell_type": "code",
   "execution_count": 35,
   "id": "13463fe0",
   "metadata": {},
   "outputs": [],
   "source": [
    "df_united = df[df['airline']=='United']\n",
    "df_usairways = df[df['airline']=='US Airways']\n",
    "df_american = df[df['airline']=='American']\n",
    "df_southwest = df[df['airline']=='Southwest']\n",
    "df_delta = df[df['airline']=='Delta']\n",
    "df_virginam = df[df['airline']=='Virgin America']"
   ]
  },
  {
   "cell_type": "code",
   "execution_count": 36,
   "id": "25bba4f5",
   "metadata": {},
   "outputs": [],
   "source": [
    "def sentiments_by_airline(df_input):\n",
    "    #Define train and test sets\n",
    "    X_df = df_input.text_clean\n",
    "    y_df = df_input.sentiment_num\n",
    "\n",
    "    Xtr, Xte, ytr, yte = train_test_split(X_df, y_df, test_size = 0.3, stratify=y_df, random_state=1)\n",
    "\n",
    "    #Use CountVectorizer with same parameters from final model before\n",
    "    vect = CountVectorizer(max_df = grid_cv_lr.best_params_['vectorizer__max_df'], \n",
    "                           min_df = grid_cv_lr.best_params_['vectorizer__min_df'], \n",
    "                           ngram_range = (1,2))\n",
    "    Xtr_dtm = vect.fit_transform(Xtr)\n",
    "    Xte_dtm = vect.transform(Xte)\n",
    "\n",
    "    #Train NB model and find accuracy for train and test sets\n",
    "    lr = LogisticRegression(C = grid_cv_lr.best_params_['classifier__C'], max_iter = 1000)\n",
    "    lr.fit(Xtr_dtm, ytr)\n",
    "    print (\"Accuracy on training data: %0.3f\" % (lr.score(Xtr_dtm, ytr)))\n",
    "    print (\"Accuracy on test data:     %0.3f\" % (lr.score(Xte_dtm, yte)))\n",
    "    \n",
    "    #Same process as before to find top words and ngrams for positive and negative sentiments\n",
    "    words = np.array(vect.get_feature_names())\n",
    "\n",
    "    x = np.eye(Xte_dtm.shape[1])\n",
    "    probs = lr.predict_log_proba(x)[:, 0]\n",
    "    ind = np.argsort(probs)\n",
    "\n",
    "    good_words = words[ind[:15]]\n",
    "    bad_words = words[ind[-15:]]\n",
    "\n",
    "    good_prob = probs[ind[:15]]\n",
    "    bad_prob = probs[ind[-15:]]\n",
    "\n",
    "    pred_strength = pd.DataFrame({'tokens':words, 'probability':1-np.exp(probs)})\n",
    "\n",
    "    print(\"Good words\\t     P(fresh | word)\")\n",
    "    for w, p in zip(good_words, good_prob):\n",
    "        print(\"{:>20}\".format(w), \"{:.2f}\".format(1 - np.exp(p)))\n",
    "    \n",
    "    print(\"Bad words\\t     P(fresh | word)\")\n",
    "    for w, p in zip(bad_words, bad_prob):\n",
    "        print(\"{:>20}\".format(w), \"{:.2f}\".format(1 - np.exp(p)))"
   ]
  },
  {
   "cell_type": "code",
   "execution_count": 57,
   "id": "47da9b22",
   "metadata": {},
   "outputs": [],
   "source": [
    "def find_tweets(word, df):\n",
    "    tweets = []\n",
    "    for tweet in df.text:\n",
    "        if word in tweet:\n",
    "            tweets.append(tweet)\n",
    "    return tweets"
   ]
  },
  {
   "cell_type": "markdown",
   "id": "2d9ec768",
   "metadata": {},
   "source": [
    "### United"
   ]
  },
  {
   "cell_type": "code",
   "execution_count": 58,
   "id": "02a134f5",
   "metadata": {},
   "outputs": [
    {
     "name": "stdout",
     "output_type": "stream",
     "text": [
      "Accuracy on training data: 0.960\n",
      "Accuracy on test data:     0.914\n",
      "Good words\t     P(fresh | word)\n",
      "               thank 0.84\n",
      "              thanks 0.74\n",
      "             amazing 0.64\n",
      "                thnx 0.60\n",
      "             awesome 0.58\n",
      "           wonderful 0.53\n",
      "               worry 0.49\n",
      "               great 0.49\n",
      "                huge 0.48\n",
      "           excellent 0.47\n",
      "           impressed 0.45\n",
      "                 far 0.44\n",
      "                good 0.43\n",
      "                best 0.41\n",
      "          appreciate 0.41\n",
      "Bad words\t     P(fresh | word)\n",
      "                 doe 0.07\n",
      "               night 0.07\n",
      "           passenger 0.07\n",
      "               going 0.07\n",
      "               delay 0.07\n",
      "                card 0.07\n",
      "               offer 0.07\n",
      "                come 0.06\n",
      "                link 0.06\n",
      "               speak 0.06\n",
      "              minute 0.06\n",
      "               worst 0.06\n",
      "               phone 0.06\n",
      "                 say 0.05\n",
      "                hour 0.05\n"
     ]
    }
   ],
   "source": [
    "sentiments_by_airline(df_united)"
   ]
  },
  {
   "cell_type": "code",
   "execution_count": 68,
   "id": "9e2d9617",
   "metadata": {},
   "outputs": [
    {
     "data": {
      "text/plain": [
       "['@united to speak to a real person to get this resolved politely and efficiently. (2/2)',\n",
       " \"@united hence why I've been asking for the customer service phone number so I can speak to a real person to get this sorted out\",\n",
       " '@united pls properly train your agents. Requested to speak to 1k customer service &amp; was transferred to a dead end. Not even open at this hr',\n",
       " \"@united what's a good number to call to speak with someone about how you can fix what you did to 50 people and their luggage on Saturday?\",\n",
       " '@united During the same round trip, my NON-English speaking friend was stranded TWICE for 12+ hours each time! Most staff members were rude.',\n",
       " \"@united Does customer care have email or a phone rep that I can speak with? We had so many issues they can't be placed in 2000 characters?\",\n",
       " '@united current hold time AFTER speaking to rep to have tix reissued is 42 mins - why so long &amp; why not make this option available online?',\n",
       " '@united yes I have and I was calling in regards to speaking to someone about it even further, but unfortunately i was just bounced around.',\n",
       " \"@united resolved and im sick and tired of waiting on you. I want my refund and I'd like to speak to someone about it.\",\n",
       " \"@united I have never been more frustrated than my conversations with United who can't speak Spanish to the courier company that has my bag!\",\n",
       " \"@united boarding was decent, 3 useless agents that don't speak English (after 2.5hrs of hold) 6hrs of mech delay not so much\",\n",
       " '@united Which just speaks to basically the worst designed web system ever.',\n",
       " \"@united has me #stranded (weather NOT to blame). 1hr+ hold to speak to an agent that doesn't understand the concept of time zones, thanks!\",\n",
       " '@united I would like 2 speak @United VP of #CustExp Jimmy Samartzis! I sent a survey/email about my awful flight exp http://t.co/OtFZ7CygUQ',\n",
       " \"@united I hope so but I've received no help so far. I've been on hold for more than an hour. Can someone speak to me?\",\n",
       " \"@united How can I file a claim when your agents won't let me speak to a supervisor? My claim number is expired because you WON'T find my bag\",\n",
       " '@united I have and been denied! I called and got hung up on. Did speaks with manager on second call',\n",
       " '@united your customer service is lacking and you owe me a @GoPro camera. I also appreciate not being interrupted every time I speak Thanks',\n",
       " '@united I mean is there a real live person somewhere I can go and speak to at Newark post security?',\n",
       " '@united I need to speak with a supervisor or someone who is #willing to help me use a credit I have ASAP.  #letsworktogether']"
      ]
     },
     "execution_count": 68,
     "metadata": {},
     "output_type": "execute_result"
    }
   ],
   "source": [
    "find_tweets(\"speak\", df_united)[:20]"
   ]
  },
  {
   "cell_type": "markdown",
   "id": "94953b4f",
   "metadata": {},
   "source": [
    "We see that the positive sentiments include a lot of words including thanks, impressed, appreciate - they are all celebrating a good experience and showing appreciation for good service. The negative sentiments include words like hour, phone, speak, and delay indicating lots of flight delays and customer service issues. \n",
    "\n",
    "### US Airways"
   ]
  },
  {
   "cell_type": "code",
   "execution_count": 61,
   "id": "951afaf6",
   "metadata": {},
   "outputs": [
    {
     "name": "stdout",
     "output_type": "stream",
     "text": [
      "Accuracy on training data: 0.970\n",
      "Accuracy on test data:     0.917\n",
      "Good words\t     P(fresh | word)\n",
      "               thank 0.75\n",
      "              thanks 0.66\n",
      "               kudos 0.44\n",
      "               great 0.43\n",
      "             awesome 0.35\n",
      "                away 0.35\n",
      "             amazing 0.34\n",
      "              hoping 0.33\n",
      "             keeping 0.29\n",
      "                best 0.29\n",
      "              follow 0.29\n",
      "           wonderful 0.28\n",
      "             excited 0.26\n",
      "                team 0.26\n",
      "               catch 0.24\n",
      "Bad words\t     P(fresh | word)\n",
      "             ruining 0.05\n",
      "                gave 0.05\n",
      "             waiting 0.05\n",
      "             website 0.05\n",
      "              minute 0.05\n",
      "                 doe 0.05\n",
      "                 min 0.05\n",
      "         reservation 0.04\n",
      "               delay 0.04\n",
      "               worst 0.04\n",
      "           cancelled 0.04\n",
      "                need 0.04\n",
      "                hold 0.04\n",
      "                hour 0.04\n",
      "            vacation 0.03\n"
     ]
    }
   ],
   "source": [
    "sentiments_by_airline(df_usairways)"
   ]
  },
  {
   "cell_type": "code",
   "execution_count": 67,
   "id": "fda63d14",
   "metadata": {},
   "outputs": [
    {
     "data": {
      "text/plain": [
       "['@USAirways thanks 4 making it impossibly expensive 2 change 2 a flight leaving less than 24 hrs earlier than my reservation #1lesscustomer',\n",
       " \"@USAirways Forget reservations. Thank you to the great leadership at your company, I've Cancelled Flighted my flight. Once again, thank you.\",\n",
       " '@USAirways i understand that but i should still be able to view my reservation online....',\n",
       " \"@USAirways I've been on hold for 41min. Just trying to change my reservation.\",\n",
       " '@USAirways - 53 minutes on hold for a reservation?',\n",
       " '@USAirways please fix your reservations phone system.  The weather/backup could not possibly be bad for 10 days!  #goodgriefpeople',\n",
       " '@USAirways how do you get your aa frequent flyer number to appear in a USAir reservation?? Frustrating',\n",
       " '@USAirways three hour wait and counting waiting for reservations on the phone. Are you serious!?',\n",
       " \"@USAirways .... I've been trying to get through to book a reservation and the system will not let me through. Day 3 #ridiculous\",\n",
       " \"@USAirways I made a reservation online but I didn't receive any confirmation email. My bank said the transaction went through. Can u help?\",\n",
       " '@USAirways after 2 hrs of trying to reach real human, finally did and been on hold for 1:36 hrs for out of synch reservation.',\n",
       " \"@USAirways - have dinner reservations in a few minutes -- and I've been trying to get through to you since BREAKFAST. #onholdwith\",\n",
       " \"@USAirways I've been on hold for 90 minutes. This is terrible customer service. You messed up my reservation! http://t.co/oyLgeao7Y8\",\n",
       " \"@USAirways -- I've been on hold 40 mins to Cancelled Flight my reservation for this afternoon. Is there another way? Web tells me to call.\",\n",
       " '@usairways Is your reservation phone number working? Called 10x in the last 3 days, and haven’t gotten through.',\n",
       " \"@USAirways I've been on hold at the reservations desk for 3 hours. HELP!!!!\",\n",
       " '@USAirways if I try and call your reservations line will someone answer the phone now or will I be on hold for an hour again?',\n",
       " '@USAirways No one answers your reservation phone line. I need to book travel with a  companion certificate. How do I get through?!!!',\n",
       " \"@USAirways I never made a reward reservation becuase no one ever answered the phone. The online one I made got Cancelled Flighted and I can't change\",\n",
       " \"@USAirways please respond to me. I've been on hold on the reservations line for an hour and 45 minutes. I would really appreciate it.\"]"
      ]
     },
     "execution_count": 67,
     "metadata": {},
     "output_type": "execute_result"
    }
   ],
   "source": [
    "find_tweets(\"reservation\", df_usairways)[:20]"
   ]
  },
  {
   "cell_type": "markdown",
   "id": "2c5734bd",
   "metadata": {},
   "source": [
    "The negative sentiments again seem to show disappointment to time related concerns. We see the words \"reservation\" and \"hold\" and \"website\" which may indicate customers are having issues with booking on the website or on the phone. \n",
    "\n",
    "### American"
   ]
  },
  {
   "cell_type": "code",
   "execution_count": 69,
   "id": "e8fa5238",
   "metadata": {},
   "outputs": [
    {
     "name": "stdout",
     "output_type": "stream",
     "text": [
      "Accuracy on training data: 0.967\n",
      "Accuracy on test data:     0.904\n",
      "Good words\t     P(fresh | word)\n",
      "               thank 0.82\n",
      "              thanks 0.77\n",
      "               great 0.49\n",
      "                good 0.45\n",
      "           excellent 0.44\n",
      "          appreciate 0.39\n",
      "                love 0.38\n",
      "               kudos 0.31\n",
      "             awesome 0.30\n",
      "               sweet 0.29\n",
      "                 yes 0.29\n",
      "               enjoy 0.29\n",
      "               happy 0.28\n",
      "               award 0.28\n",
      "                 new 0.27\n",
      "Bad words\t     P(fresh | word)\n",
      "               phone 0.05\n",
      "                rude 0.05\n",
      "              saying 0.05\n",
      "             working 0.05\n",
      "                  hr 0.05\n",
      "                 fly 0.05\n",
      "                took 0.05\n",
      "               night 0.05\n",
      "                miss 0.05\n",
      "                hold 0.05\n",
      "               worst 0.05\n",
      "                hour 0.05\n",
      "              option 0.04\n",
      "                need 0.04\n",
      "                 bag 0.04\n"
     ]
    }
   ],
   "source": [
    "sentiments_by_airline(df_american)"
   ]
  },
  {
   "cell_type": "code",
   "execution_count": 71,
   "id": "21f498ad",
   "metadata": {},
   "outputs": [
    {
     "data": {
      "text/plain": [
       "['@AmericanAir - Please find my bag!! In Singapore for three days already without my bag. Last known destination LAX Tag: 580815 Please help.',\n",
       " '@AmericanAir\\n Your response could have made all the difference. It could have made the situation better. NO TRUST...GET LOST like my bag.',\n",
       " \"@AmericanAir That's ok...You may keep my $25 and lose my bag with no info, but you no longer have my trust. Bad way to handle this.\",\n",
       " '@AmericanAir extremely upset that your baggage handlers decide to go in my luggage and take my belongings',\n",
       " '@AmericanAir this delayed bag was for my friend Lisa Pafe. She got her bag after 3 days in Costa Rica. Issue no updates on your system.',\n",
       " '@AmericanAir - Please find my bag!! In Singapore for three days already without my bag. Last known destination LAX Tag: 580815 Please help.',\n",
       " '@AmericanAir\\n Your response could have made all the difference. It could have made the situation better. NO TRUST...GET LOST like my bag.',\n",
       " \"@AmericanAir That's ok...You may keep my $25 and lose my bag with no info, but you no longer have my trust. Bad way to handle this.\",\n",
       " '@AmericanAir extremely upset that your baggage handlers decide to go in my luggage and take my belongings',\n",
       " '@AmericanAir this delayed bag was for my friend Lisa Pafe. She got her bag after 3 days in Costa Rica. Issue no updates on your system.',\n",
       " \"@AmericanAir \\nNot giving you a hard time...Just looking for basic customer service after AA lost my bag. ETA on it's return, please????????\",\n",
       " '@AmericanAir Filled out a baggage claim over the phone last night. Check the status to discover the rep confused Arkansas for Alaska 😒',\n",
       " '@AmericanAir #AmericanAirlines says most bags left in Miami have been returned following mechanical glitch &gt;&gt; http://t.co/Ib8kyjBCJM',\n",
       " '@AmericanAir \\nHello...My baggage has been lost in another city. Can anyone help me with this?',\n",
       " '@AmericanAir Just got a call from baggage dept. \"...still looking for your property\". It\\'s went missing 1/28. PRERECORDED NO HUMAN SERVICE!!',\n",
       " '@AmericanAir I need to go to YYZ tmr morning 8am. I switched to United already, but my bag is still off in AA la-la land.',\n",
       " \"@AmericanAir I'll be sticking with @southwest in the future. No change fees, first bag free, and stellar customer service.\",\n",
       " '@AmericanAir I lost my (basket) ballbag on your plane',\n",
       " \"@AmericanAir Horrible service @loganairports. Luggage got destroyed on flight and woman at baggage service was so rude. Didn't help at all.\",\n",
       " \"@AmericanAir I'm flying into DCA my bag is at IAD.  I am already Late Flight for my meetings at work.  I will call the number when I land 😭\"]"
      ]
     },
     "execution_count": 71,
     "metadata": {},
     "output_type": "execute_result"
    }
   ],
   "source": [
    "find_tweets(\"bag\", df_american)[:20]"
   ]
  },
  {
   "cell_type": "markdown",
   "id": "a141f56c",
   "metadata": {},
   "source": [
    "For American, the negative sentiment tweets include words like \"rude\", \"phone\", and \"bag\" which indicates issues with customer service and friendliness of staff. We also see they may be losing or damaging bags frequently. \n",
    "\n",
    "### Southwest"
   ]
  },
  {
   "cell_type": "code",
   "execution_count": 72,
   "id": "25efa1f5",
   "metadata": {},
   "outputs": [
    {
     "name": "stdout",
     "output_type": "stream",
     "text": [
      "Accuracy on training data: 0.947\n",
      "Accuracy on test data:     0.861\n",
      "Good words\t     P(fresh | word)\n",
      "               thank 0.93\n",
      "              thanks 0.84\n",
      "             awesome 0.83\n",
      "                best 0.82\n",
      "             amazing 0.76\n",
      "          appreciate 0.71\n",
      "               great 0.70\n",
      "                love 0.70\n",
      "           excellent 0.69\n",
      "                crew 0.68\n",
      "           beautiful 0.64\n",
      "                week 0.64\n",
      "               visit 0.64\n",
      "            passbook 0.63\n",
      "             atlanta 0.63\n",
      "Bad words\t     P(fresh | word)\n",
      "              number 0.19\n",
      "             airport 0.19\n",
      "          experience 0.19\n",
      "              online 0.18\n",
      "                wifi 0.18\n",
      "           cancelled 0.18\n",
      "               worst 0.17\n",
      "                  pm 0.17\n",
      "               going 0.15\n",
      "             delayed 0.15\n",
      "                  hr 0.15\n",
      "                 bag 0.15\n",
      "                hour 0.14\n",
      "                hold 0.13\n",
      "             luggage 0.11\n"
     ]
    }
   ],
   "source": [
    "sentiments_by_airline(df_southwest)"
   ]
  },
  {
   "cell_type": "code",
   "execution_count": 73,
   "id": "5c1861c8",
   "metadata": {},
   "outputs": [
    {
     "data": {
      "text/plain": [
       "[\"@SouthwestAir if you're going to charge for wifi, do us all a solid and make sure it doesn't take the length of the flight to open a page\",\n",
       " '@SouthwestAir three hour flight to Orlando and no wifi? Uncool. #firstworldproblems',\n",
       " '@SouthwestAir wifi stays connected about the lifetime of a higgs boson',\n",
       " \"@SouthwestAir in flight wifi + @TMobile wifi calling makes for the best combination. Who doesn't love texting 40,000 feet in the air :D\",\n",
       " '@SouthwestAir crew on flight 206 is awesome! Tell them I sent this tweet and maybe they will give me free wifi... #canthurtasking',\n",
       " \"@SouthwestAir wifi is so slow! What is the point having one if can't get on the Internet?! Ugh...\",\n",
       " \"@SouthwestAir how about fixing the wifi!  3rd flight where it's not working. 800 series plane so not like it's an old plane.\",\n",
       " \"@southwestair on flight 3130 and I paid $8 for wifi that can't load a website functionally except for your own live streaming. Unacceptable.\",\n",
       " '@SouthwestAir wifi is the worst $8 investment I have ever made.',\n",
       " \"@SouthwestAir I'm a huge fan and give y'all too much business...so please fix the damn wifi!\",\n",
       " '@SouthwestAir your wifi is angering me with its slowness',\n",
       " '@SouthwestAir BTW I was completely unable to buy wifi for my flight using Galaxy S4. Couldn\\'t zoom out or scroll to touch \"Buy\"',\n",
       " '@SouthwestAir wifi on my plane but I gotta pay for it? Help your broke homegirl out✈️📱',\n",
       " '@SouthwestAir how often are airplane seats/tray tables cleaned and sanitized? rather have air purifier and clean seats than #wifi 😷😱',\n",
       " \"@SouthwestAir alist pref doesn't do any good if direct to atl is always wifiless. Flight 1701.\",\n",
       " '@SouthwestAir I am absolutely sick of 300s and no wifi!',\n",
       " \"@SouthwestAir Your wifi stinks. I'm not mad, but i wouldn't hate it if i got my money refunded.\",\n",
       " \"@SouthwestAir Flying now from JAX to DEN and I paid $8 for wifi that barely is functional.  Couldn't do work if I wanted to.  Never again.\",\n",
       " '@SouthwestAir  Longer flights with 300 series no wifi? Will be great when you retire them.',\n",
       " \"@SouthwestAir I can't begin to tell you how slow my plane's wifi is. I can't even pull up an email.  What am i paying $8 for??\"]"
      ]
     },
     "execution_count": 73,
     "metadata": {},
     "output_type": "execute_result"
    }
   ],
   "source": [
    "find_tweets(\"wifi\", df_southwest)[:20]"
   ]
  },
  {
   "cell_type": "markdown",
   "id": "75258483",
   "metadata": {},
   "source": [
    "For southwest, we see words such as luggage, wifi, online, etc. which indicate issues with the on-flight wireless connection as well as luggage issues. They also seem to have cancellations and delays. \n",
    "\n",
    "### Delta"
   ]
  },
  {
   "cell_type": "code",
   "execution_count": 76,
   "id": "22b00d17",
   "metadata": {},
   "outputs": [
    {
     "name": "stdout",
     "output_type": "stream",
     "text": [
      "Accuracy on training data: 0.933\n",
      "Accuracy on test data:     0.842\n",
      "Good words\t     P(fresh | word)\n",
      "              thanks 0.92\n",
      "               thank 0.88\n",
      "               great 0.80\n",
      "                love 0.75\n",
      "             awesome 0.71\n",
      "                cool 0.69\n",
      "             amazing 0.67\n",
      "               snack 0.67\n",
      "                best 0.65\n",
      "               kudos 0.64\n",
      "              family 0.63\n",
      "                rock 0.62\n",
      "                 hot 0.62\n",
      "                wish 0.61\n",
      "                 lot 0.61\n",
      "Bad words\t     P(fresh | word)\n",
      "               twice 0.19\n",
      "             respond 0.19\n",
      "               hotel 0.19\n",
      "              option 0.19\n",
      "              online 0.19\n",
      "               leave 0.19\n",
      "             waiting 0.18\n",
      "               point 0.18\n",
      "              member 0.18\n",
      "             voucher 0.17\n",
      "                  tv 0.17\n",
      "                 bag 0.16\n",
      "             delayed 0.13\n",
      "               delay 0.12\n",
      "                hour 0.08\n"
     ]
    }
   ],
   "source": [
    "sentiments_by_airline(df_delta)"
   ]
  },
  {
   "cell_type": "code",
   "execution_count": 78,
   "id": "48b987c3",
   "metadata": {},
   "outputs": [
    {
     "data": {
      "text/plain": [
       "['@JetBlue does transferring trueblue points within family pooling members cost $? This is after having set up contribution-to-pool already.',\n",
       " '@JetBlue We had some major plane-wide DirectTV issues yesterday. System kept being reset by crew member.',\n",
       " '@jetblue as courtesy to Mosaic members or anyone, a request for water should be attended promptly. Daniel in flight 1557, should know better',\n",
       " \"@JetBlue I thought being a mosaic member had 'perks' the best part is instead of checking the extra 5lbs I'm carrying it on 😒\",\n",
       " '@JetBlue thank you for not even coming with a solution. Great service I might say...as a TrueBlue member I am totally dissatisfied...thanks',\n",
       " '@JetBlue no. Not boarding order. Someone boarded with. Service Animal which a member of my party was allergic to and because the flight was',\n",
       " '@JetBlue This is the error message: Paper tickets cannot be serviced on-line.\\nPlease see a JetBlue Crewmember for assistance.',\n",
       " \"@JetBlue I waited in line all that time to be told by a crewmember that there's no update until 9:30 #3HrDelay #disappointed\",\n",
       " \"@JetBlue you don't remember our date Monday night back to NYC? #heartbroken\",\n",
       " '@JetBlue thank you #loyalmosaicmember',\n",
       " \"@JetBlue Been a member since 2007. Looking to travel next week 2/24-2/27. Couldn't book right away due to all the snow; I'm in BOS.\",\n",
       " '@JetBlue As long as someone remembers to put it on plane right? That was a really lame excuse.Geez @JetBlue can do much better #coffeeneeded',\n",
       " \"@JetBlue That's why I love JetBlue! #truebluemember4life\",\n",
       " \"@JetBlue Every crew member I dealt with in Orlando was incredibly rude. I'm actually pretty disgusted with JetBlue right now.\",\n",
       " '@JetBlue is the greatest airline ever 💕✈️💺 #TrueBluePoints #jetbluemember',\n",
       " '@JetBlue hey you guys remembered lol! But now my BOS flights delayed... And turn the heat down in T5 it feels hotter than PR.',\n",
       " '@jetblue #philly lost and read program - Our customers get hot tea, great crewmembers, top notch info &amp; now #BOOKS! http://t.co/9rAGncw2Bk',\n",
       " \"@JetBlue remember - I'm very doubtful and not very hopeful :(\",\n",
       " '@JetBlue Thank you that it is not just a livery; it is a culture that 16,000+ crewmembers embody daily #thanksDave http://t.co/iNNP0Kkyby',\n",
       " \"@JetBlue - BlueManity brought tears to my eyes. JetBlue' s commitment to giving back to the crewmembers and the community is aww inspiring!\"]"
      ]
     },
     "execution_count": 78,
     "metadata": {},
     "output_type": "execute_result"
    }
   ],
   "source": [
    "find_tweets(\"member\", df_delta)[:20]"
   ]
  },
  {
   "cell_type": "markdown",
   "id": "bc068c2d",
   "metadata": {},
   "source": [
    "Similar positive words as other airlines, negative words include hotel, tv, member, online, point. These could all indicate issues that members are having online or when booking hotels due to cancellations perhaps. \n",
    "\n",
    "### Virgin America"
   ]
  },
  {
   "cell_type": "code",
   "execution_count": 75,
   "id": "062bf152",
   "metadata": {},
   "outputs": [
    {
     "name": "stdout",
     "output_type": "stream",
     "text": [
      "Accuracy on training data: 0.944\n",
      "Accuracy on test data:     0.770\n",
      "Good words\t     P(fresh | word)\n",
      "                love 0.87\n",
      "              thanks 0.83\n",
      "               great 0.78\n",
      "                best 0.77\n",
      "                cool 0.76\n",
      "              austin 0.74\n",
      "                rock 0.71\n",
      "               thank 0.71\n",
      "              faster 0.71\n",
      "                good 0.68\n",
      "               route 0.68\n",
      "       virginamerica 0.67\n",
      "                wish 0.67\n",
      "             america 0.66\n",
      "                 sfo 0.66\n",
      "Bad words\t     P(fresh | word)\n",
      "             checkin 0.36\n",
      "             delayed 0.36\n",
      "                 sad 0.35\n",
      "                site 0.35\n",
      "                need 0.35\n",
      "               check 0.34\n",
      "                 bag 0.34\n",
      "               going 0.34\n",
      "             problem 0.33\n",
      "              trying 0.33\n",
      "             website 0.32\n",
      "           cancelled 0.30\n",
      "                help 0.28\n",
      "             luggage 0.27\n",
      "                seat 0.18\n"
     ]
    }
   ],
   "source": [
    "sentiments_by_airline(df_virginam)"
   ]
  },
  {
   "cell_type": "code",
   "execution_count": 79,
   "id": "ee01c5c9",
   "metadata": {},
   "outputs": [
    {
     "data": {
      "text/plain": [
       "[\"@VirginAmerica Is it me, or is your website down?  BTW, your new website isn't a great user experience.  Time for another redesign.\",\n",
       " \"@VirginAmerica I can't check in or add a bag. Your website isn't working. I've tried both desktop and mobile http://t.co/AvyqdMpi1Y\",\n",
       " \"@VirginAmerica Use another browser! 2015 &amp; a brand with a reputation built on tech response doesn't have a cross-browser compatible website?\",\n",
       " '@VirginAmerica is the website down?',\n",
       " \"@VirginAmerica trying to book a flight with you guys and your website won't let me... about to lose my business\",\n",
       " \"@VirginAmerica Your website is down and I'm trying to check in!\",\n",
       " \"@VirginAmerica seats in Row 8 don't recline should mention that on your website #soreback\",\n",
       " '@VirginAmerica can’t access your website from Safari on iPhone 6. Seems to work on Mac and iPad. Need iPhone to add Passbook.',\n",
       " \"@VirginAmerica Hi, I'm trying to do check-in but the website is not working. I tried 3 different browsers and the problem continues\",\n",
       " '@VirginAmerica current bug on website shows ‘select departure city’ when selecting destination city http://t.co/SLLYIBE2vQ',\n",
       " '@VirginAmerica there is something wrong with you website in Safari iPhone',\n",
       " \"@VirginAmerica Is there anything going on with the website? I've been getting a lot of errors past 30 minutes.\",\n",
       " '@VirginAmerica Funny story, your website is broken, you have missing javascript and stylesheets on the checkin process. I dislike this!',\n",
       " \"@VirginAmerica I'm trying to check into my 10:50AM CT flight tmm on the desktop website and it's not working (some sort of caching bug) SOS\",\n",
       " '@VirginAmerica The Flight Booking Problems section of your website seems to be broken on Chrome. Might wanna look into that.',\n",
       " '@virginamerica the manage itinerary section of your website seems to be broken for me https://t.co/2pUJvCElNg',\n",
       " \"@VirginAmerica your Avis rental continue button doesn't work on your website to book car. Tried 4 times on phone.  This sucks!\",\n",
       " '@VirginAmerica Just bought tix for ATX - Dallas route - thanks for adding that! Love yr airline &amp; yr website is BEST transactional site EVER',\n",
       " '@VirginAmerica your website sucks donkey dicks. Just thought you should know. All best.']"
      ]
     },
     "execution_count": 79,
     "metadata": {},
     "output_type": "execute_result"
    }
   ],
   "source": [
    "find_tweets(\"website\", df_virginam)[:20]"
   ]
  },
  {
   "cell_type": "markdown",
   "id": "c6dc773e",
   "metadata": {},
   "source": [
    "Lastly, the positive words for Virgin America are similar once again, with customer service showing up as well. Negative words indicate problems luggage and seats, delays and cancellations, and website once again. "
   ]
  }
 ],
 "metadata": {
  "kernelspec": {
   "display_name": "Python 3",
   "language": "python",
   "name": "python3"
  },
  "language_info": {
   "codemirror_mode": {
    "name": "ipython",
    "version": 3
   },
   "file_extension": ".py",
   "mimetype": "text/x-python",
   "name": "python",
   "nbconvert_exporter": "python",
   "pygments_lexer": "ipython3",
   "version": "3.8.8"
  }
 },
 "nbformat": 4,
 "nbformat_minor": 5
}
