{
 "cells": [
  {
   "cell_type": "code",
   "execution_count": 1,
   "id": "60c2d9ae",
   "metadata": {},
   "outputs": [
    {
     "name": "stderr",
     "output_type": "stream",
     "text": [
      "None of PyTorch, TensorFlow >= 2.0, or Flax have been found. Models won't be available and only tokenizers, configuration and file/data utilities can be used.\n"
     ]
    }
   ],
   "source": [
    "import pandas as pd\n",
    "import numpy as np\n",
    "import matplotlib.pyplot as plt\n",
    "from sklearn.model_selection import train_test_split\n",
    "from sklearn import metrics\n",
    "from sklearn.naive_bayes import MultinomialNB\n",
    "from sklearn.linear_model import LogisticRegression\n",
    "from sklearn.feature_extraction.text import CountVectorizer\n",
    "from sklearn.feature_extraction.text import TfidfVectorizer\n",
    "from sklearn.pipeline import Pipeline\n",
    "from sklearn.model_selection import GridSearchCV"
   ]
  },
  {
   "cell_type": "code",
   "execution_count": 2,
   "id": "75886720",
   "metadata": {},
   "outputs": [
    {
     "data": {
      "text/html": [
       "<div>\n",
       "<style scoped>\n",
       "    .dataframe tbody tr th:only-of-type {\n",
       "        vertical-align: middle;\n",
       "    }\n",
       "\n",
       "    .dataframe tbody tr th {\n",
       "        vertical-align: top;\n",
       "    }\n",
       "\n",
       "    .dataframe thead th {\n",
       "        text-align: right;\n",
       "    }\n",
       "</style>\n",
       "<table border=\"1\" class=\"dataframe\">\n",
       "  <thead>\n",
       "    <tr style=\"text-align: right;\">\n",
       "      <th></th>\n",
       "      <th>airline_sentiment</th>\n",
       "      <th>negativereason</th>\n",
       "      <th>airline</th>\n",
       "      <th>retweet_count</th>\n",
       "      <th>text</th>\n",
       "      <th>text_clean</th>\n",
       "    </tr>\n",
       "  </thead>\n",
       "  <tbody>\n",
       "    <tr>\n",
       "      <th>0</th>\n",
       "      <td>positive</td>\n",
       "      <td>No Reason</td>\n",
       "      <td>Virgin America</td>\n",
       "      <td>0</td>\n",
       "      <td>@VirginAmerica plus you've added commercials t...</td>\n",
       "      <td>plus added commercial experience tacky</td>\n",
       "    </tr>\n",
       "    <tr>\n",
       "      <th>1</th>\n",
       "      <td>negative</td>\n",
       "      <td>Bad Flight</td>\n",
       "      <td>Virgin America</td>\n",
       "      <td>0</td>\n",
       "      <td>@VirginAmerica it's really aggressive to blast...</td>\n",
       "      <td>really aggressive blast obnoxious entertainmen...</td>\n",
       "    </tr>\n",
       "    <tr>\n",
       "      <th>2</th>\n",
       "      <td>negative</td>\n",
       "      <td>Can't Tell</td>\n",
       "      <td>Virgin America</td>\n",
       "      <td>0</td>\n",
       "      <td>@VirginAmerica and it's a really big bad thing...</td>\n",
       "      <td>really big bad thing</td>\n",
       "    </tr>\n",
       "    <tr>\n",
       "      <th>3</th>\n",
       "      <td>negative</td>\n",
       "      <td>Can't Tell</td>\n",
       "      <td>Virgin America</td>\n",
       "      <td>0</td>\n",
       "      <td>@VirginAmerica seriously would pay $30 a fligh...</td>\n",
       "      <td>seriously pay flight seat did playing really b...</td>\n",
       "    </tr>\n",
       "    <tr>\n",
       "      <th>4</th>\n",
       "      <td>positive</td>\n",
       "      <td>No Reason</td>\n",
       "      <td>Virgin America</td>\n",
       "      <td>0</td>\n",
       "      <td>@VirginAmerica yes, nearly every time I fly VX...</td>\n",
       "      <td>yes nearly time fly vx ear worm away</td>\n",
       "    </tr>\n",
       "  </tbody>\n",
       "</table>\n",
       "</div>"
      ],
      "text/plain": [
       "  airline_sentiment negativereason         airline  retweet_count  \\\n",
       "0          positive      No Reason  Virgin America              0   \n",
       "1          negative     Bad Flight  Virgin America              0   \n",
       "2          negative     Can't Tell  Virgin America              0   \n",
       "3          negative     Can't Tell  Virgin America              0   \n",
       "4          positive      No Reason  Virgin America              0   \n",
       "\n",
       "                                                text  \\\n",
       "0  @VirginAmerica plus you've added commercials t...   \n",
       "1  @VirginAmerica it's really aggressive to blast...   \n",
       "2  @VirginAmerica and it's a really big bad thing...   \n",
       "3  @VirginAmerica seriously would pay $30 a fligh...   \n",
       "4  @VirginAmerica yes, nearly every time I fly VX...   \n",
       "\n",
       "                                          text_clean  \n",
       "0             plus added commercial experience tacky  \n",
       "1  really aggressive blast obnoxious entertainmen...  \n",
       "2                               really big bad thing  \n",
       "3  seriously pay flight seat did playing really b...  \n",
       "4               yes nearly time fly vx ear worm away  "
      ]
     },
     "execution_count": 2,
     "metadata": {},
     "output_type": "execute_result"
    }
   ],
   "source": [
    "df = pd.read_csv('../data/clean_data.csv', index_col=0)\n",
    "df.head()"
   ]
  },
  {
   "cell_type": "code",
   "execution_count": 3,
   "id": "ecff2350",
   "metadata": {},
   "outputs": [
    {
     "data": {
      "text/html": [
       "<div>\n",
       "<style scoped>\n",
       "    .dataframe tbody tr th:only-of-type {\n",
       "        vertical-align: middle;\n",
       "    }\n",
       "\n",
       "    .dataframe tbody tr th {\n",
       "        vertical-align: top;\n",
       "    }\n",
       "\n",
       "    .dataframe thead th {\n",
       "        text-align: right;\n",
       "    }\n",
       "</style>\n",
       "<table border=\"1\" class=\"dataframe\">\n",
       "  <thead>\n",
       "    <tr style=\"text-align: right;\">\n",
       "      <th></th>\n",
       "      <th>airline_sentiment</th>\n",
       "      <th>negativereason</th>\n",
       "      <th>airline</th>\n",
       "      <th>retweet_count</th>\n",
       "      <th>text</th>\n",
       "      <th>text_clean</th>\n",
       "      <th>sentiment_num</th>\n",
       "    </tr>\n",
       "  </thead>\n",
       "  <tbody>\n",
       "    <tr>\n",
       "      <th>0</th>\n",
       "      <td>positive</td>\n",
       "      <td>No Reason</td>\n",
       "      <td>Virgin America</td>\n",
       "      <td>0</td>\n",
       "      <td>@VirginAmerica plus you've added commercials t...</td>\n",
       "      <td>plus added commercial experience tacky</td>\n",
       "      <td>1</td>\n",
       "    </tr>\n",
       "    <tr>\n",
       "      <th>1</th>\n",
       "      <td>negative</td>\n",
       "      <td>Bad Flight</td>\n",
       "      <td>Virgin America</td>\n",
       "      <td>0</td>\n",
       "      <td>@VirginAmerica it's really aggressive to blast...</td>\n",
       "      <td>really aggressive blast obnoxious entertainmen...</td>\n",
       "      <td>0</td>\n",
       "    </tr>\n",
       "    <tr>\n",
       "      <th>2</th>\n",
       "      <td>negative</td>\n",
       "      <td>Can't Tell</td>\n",
       "      <td>Virgin America</td>\n",
       "      <td>0</td>\n",
       "      <td>@VirginAmerica and it's a really big bad thing...</td>\n",
       "      <td>really big bad thing</td>\n",
       "      <td>0</td>\n",
       "    </tr>\n",
       "    <tr>\n",
       "      <th>3</th>\n",
       "      <td>negative</td>\n",
       "      <td>Can't Tell</td>\n",
       "      <td>Virgin America</td>\n",
       "      <td>0</td>\n",
       "      <td>@VirginAmerica seriously would pay $30 a fligh...</td>\n",
       "      <td>seriously pay flight seat did playing really b...</td>\n",
       "      <td>0</td>\n",
       "    </tr>\n",
       "    <tr>\n",
       "      <th>4</th>\n",
       "      <td>positive</td>\n",
       "      <td>No Reason</td>\n",
       "      <td>Virgin America</td>\n",
       "      <td>0</td>\n",
       "      <td>@VirginAmerica yes, nearly every time I fly VX...</td>\n",
       "      <td>yes nearly time fly vx ear worm away</td>\n",
       "      <td>1</td>\n",
       "    </tr>\n",
       "  </tbody>\n",
       "</table>\n",
       "</div>"
      ],
      "text/plain": [
       "  airline_sentiment negativereason         airline  retweet_count  \\\n",
       "0          positive      No Reason  Virgin America              0   \n",
       "1          negative     Bad Flight  Virgin America              0   \n",
       "2          negative     Can't Tell  Virgin America              0   \n",
       "3          negative     Can't Tell  Virgin America              0   \n",
       "4          positive      No Reason  Virgin America              0   \n",
       "\n",
       "                                                text  \\\n",
       "0  @VirginAmerica plus you've added commercials t...   \n",
       "1  @VirginAmerica it's really aggressive to blast...   \n",
       "2  @VirginAmerica and it's a really big bad thing...   \n",
       "3  @VirginAmerica seriously would pay $30 a fligh...   \n",
       "4  @VirginAmerica yes, nearly every time I fly VX...   \n",
       "\n",
       "                                          text_clean  sentiment_num  \n",
       "0             plus added commercial experience tacky              1  \n",
       "1  really aggressive blast obnoxious entertainmen...              0  \n",
       "2                               really big bad thing              0  \n",
       "3  seriously pay flight seat did playing really b...              0  \n",
       "4               yes nearly time fly vx ear worm away              1  "
      ]
     },
     "execution_count": 3,
     "metadata": {},
     "output_type": "execute_result"
    }
   ],
   "source": [
    "#Create new column where positive sentiment is 0, negative sentiment is 1\n",
    "df['sentiment_num'] = df.airline_sentiment.map({'positive':1, 'negative':0})\n",
    "df.head()"
   ]
  },
  {
   "cell_type": "markdown",
   "id": "055a638e",
   "metadata": {},
   "source": [
    "## Splitting Train and Test Sets"
   ]
  },
  {
   "cell_type": "code",
   "execution_count": 4,
   "id": "cdf91365",
   "metadata": {},
   "outputs": [
    {
     "name": "stdout",
     "output_type": "stream",
     "text": [
      "(11523,)\n",
      "(11523,)\n"
     ]
    }
   ],
   "source": [
    "#Create features set (just text) and target set (just sentiment number)\n",
    "X = df.text_clean\n",
    "y = df.sentiment_num\n",
    "print(X.shape)\n",
    "print(y.shape)"
   ]
  },
  {
   "cell_type": "code",
   "execution_count": 5,
   "id": "d7b88330",
   "metadata": {},
   "outputs": [
    {
     "name": "stdout",
     "output_type": "stream",
     "text": [
      "(8066,)\n",
      "(3457,)\n",
      "(8066,)\n",
      "(3457,)\n"
     ]
    }
   ],
   "source": [
    "#split data into training and testing sets\n",
    "X_train, X_test, y_train, y_test = train_test_split(X, y, test_size = 0.3, stratify=y, random_state=1)\n",
    "print(X_train.shape)\n",
    "print(X_test.shape)\n",
    "print(y_train.shape)\n",
    "print(y_test.shape)"
   ]
  },
  {
   "cell_type": "markdown",
   "id": "928a2e39",
   "metadata": {},
   "source": [
    "## Vectorizing And Training"
   ]
  },
  {
   "cell_type": "markdown",
   "id": "e5764724",
   "metadata": {},
   "source": [
    "### Defining Pipelines\n",
    "\n",
    "To decide on best vectorizer and classifier combination, we will define a few pipelines and use GridSearchCV to find the optimal hyperparameters. We will use accuracy as our scoring parameter for each model. "
   ]
  },
  {
   "cell_type": "code",
   "execution_count": 6,
   "id": "54bb73d7",
   "metadata": {},
   "outputs": [],
   "source": [
    "#Initialize vectorizers and classifiers\n",
    "count_vect = CountVectorizer()\n",
    "tfidf_vect = TfidfVectorizer()\n",
    "lr = LogisticRegression()\n",
    "nb = MultinomialNB()\n",
    "\n",
    "#Define each pipeline for each combination of vect and clf\n",
    "pipline_cv_lr = Pipeline([\n",
    "    ('vectorizer', count_vect),\n",
    "    ('classifier', lr)\n",
    "])\n",
    "\n",
    "pipline_cv_nb = Pipeline([\n",
    "    ('vectorizer', count_vect),\n",
    "    ('classifier', nb)\n",
    "])\n",
    "\n",
    "pipline_tf_lr = Pipeline([\n",
    "    ('vectorizer', tfidf_vect),\n",
    "    ('classifier', lr)\n",
    "])\n",
    "\n",
    "pipline_tf_nb = Pipeline([\n",
    "    ('vectorizer', tfidf_vect),\n",
    "    ('classifier', nb)\n",
    "])\n",
    "\n",
    "#Define paramters for each pipeline\n",
    "params_lr = {\n",
    "    'vectorizer__min_df': [3,5,10],\n",
    "    'vectorizer__ngram_range': [(1,1), (1,2)],\n",
    "    'vectorizer__max_df': [0.75, 1.0],\n",
    "    'classifier__C': [0.1, 1, 10],\n",
    "    'classifier__max_iter': [1000]\n",
    "}\n",
    "\n",
    "params_nb = {\n",
    "    'vectorizer__min_df': [3,5,10,50],\n",
    "    'vectorizer__ngram_range': [(1,1), (1,2), (1,3)],\n",
    "    'vectorizer__max_df': [0.5, 0.75, 1.0],\n",
    "    'classifier__alpha': [0.1, 1, 10]\n",
    "}"
   ]
  },
  {
   "cell_type": "code",
   "execution_count": 7,
   "id": "127374f6",
   "metadata": {},
   "outputs": [],
   "source": [
    "#Initialize each gridsearchcv object\n",
    "grid_cv_lr = GridSearchCV(pipline_cv_lr, params_lr, scoring='accuracy', cv=3)\n",
    "grid_cv_nb = GridSearchCV(pipline_cv_nb, params_nb, scoring='accuracy', cv=3)\n",
    "grid_tf_lr = GridSearchCV(pipline_tf_lr, params_lr, scoring='accuracy', cv=3)\n",
    "grid_tf_nb = GridSearchCV(pipline_tf_nb, params_nb, scoring='accuracy', cv=3)"
   ]
  },
  {
   "cell_type": "markdown",
   "id": "ad6c0c54",
   "metadata": {},
   "source": [
    "#### CountVectorizer & Logistic Regression Performance"
   ]
  },
  {
   "cell_type": "code",
   "execution_count": 8,
   "id": "08833901",
   "metadata": {},
   "outputs": [
    {
     "name": "stdout",
     "output_type": "stream",
     "text": [
      "CountVectorizer & Logistic Regression CV Performance\n",
      "Best parameters:  {'classifier__C': 1, 'classifier__max_iter': 1000, 'vectorizer__max_df': 0.75, 'vectorizer__min_df': 3, 'vectorizer__ngram_range': (1, 2)}\n",
      "Best score:  0.9055307170748552\n"
     ]
    }
   ],
   "source": [
    "grid_cv_lr.fit(X_train, y_train)\n",
    "\n",
    "print('CountVectorizer & Logistic Regression CV Performance')\n",
    "print('Best parameters: ', grid_cv_lr.best_params_)\n",
    "print('Best score: ', grid_cv_lr.best_score_ ) "
   ]
  },
  {
   "cell_type": "code",
   "execution_count": 9,
   "id": "2bb455ff",
   "metadata": {},
   "outputs": [
    {
     "data": {
      "text/plain": [
       "0.9065663870407868"
      ]
     },
     "execution_count": 9,
     "metadata": {},
     "output_type": "execute_result"
    }
   ],
   "source": [
    "vect1 = CountVectorizer(max_df = grid_cv_lr.best_params_['vectorizer__max_df'], \n",
    "                        min_df = grid_cv_lr.best_params_['vectorizer__min_df'], \n",
    "                        ngram_range = grid_cv_lr.best_params_['vectorizer__ngram_range'])\n",
    "X_train_dtm1 = vect1.fit_transform(X_train)\n",
    "X_test_dtm1 = vect1.transform(X_test)\n",
    "\n",
    "lr1 = LogisticRegression(C = grid_cv_lr.best_params_['classifier__C'], max_iter = 1000)\n",
    "lr1.fit(X_train_dtm1, y_train)\n",
    "lr1.score(X_test_dtm1, y_test)"
   ]
  },
  {
   "cell_type": "markdown",
   "id": "161108cc",
   "metadata": {},
   "source": [
    "#### CountVectorizer & Multinomial Naive Bayes Performance"
   ]
  },
  {
   "cell_type": "code",
   "execution_count": 10,
   "id": "ee6a2932",
   "metadata": {},
   "outputs": [
    {
     "name": "stdout",
     "output_type": "stream",
     "text": [
      "CountVectorizer & Multinomial Naive Bayes CV Performance\n",
      "Best parameters:  {'classifier__alpha': 1, 'vectorizer__max_df': 0.5, 'vectorizer__min_df': 3, 'vectorizer__ngram_range': (1, 2)}\n",
      "Best score:  0.9028026808219259\n"
     ]
    }
   ],
   "source": [
    "grid_cv_nb.fit(X_train, y_train)\n",
    "\n",
    "print('CountVectorizer & Multinomial Naive Bayes CV Performance')\n",
    "print('Best parameters: ', grid_cv_nb.best_params_)\n",
    "print('Best score: ', grid_cv_nb.best_score_ ) "
   ]
  },
  {
   "cell_type": "code",
   "execution_count": 11,
   "id": "06fb9542",
   "metadata": {},
   "outputs": [
    {
     "data": {
      "text/plain": [
       "0.9065663870407868"
      ]
     },
     "execution_count": 11,
     "metadata": {},
     "output_type": "execute_result"
    }
   ],
   "source": [
    "vect2 = CountVectorizer(max_df = grid_cv_nb.best_params_['vectorizer__max_df'], \n",
    "                        min_df = grid_cv_nb.best_params_['vectorizer__min_df'], \n",
    "                        ngram_range = grid_cv_nb.best_params_['vectorizer__ngram_range'])\n",
    "X_train_dtm2 = vect2.fit_transform(X_train)\n",
    "X_test_dtm2 = vect2.transform(X_test)\n",
    "\n",
    "nb1 = MultinomialNB(alpha = grid_cv_nb.best_params_['classifier__alpha'])\n",
    "nb1.fit(X_train_dtm2, y_train)\n",
    "nb1.score(X_test_dtm2, y_test)"
   ]
  },
  {
   "cell_type": "markdown",
   "id": "da3e5857",
   "metadata": {},
   "source": [
    "#### TfidfVectorizer & Logistic Regression Performance"
   ]
  },
  {
   "cell_type": "code",
   "execution_count": 12,
   "id": "cb10da22",
   "metadata": {},
   "outputs": [
    {
     "name": "stdout",
     "output_type": "stream",
     "text": [
      "TfidfVectorizer & Logistic Regression CV Performance\n",
      "Best parameters:  {'classifier__C': 10, 'classifier__max_iter': 1000, 'vectorizer__max_df': 0.75, 'vectorizer__min_df': 3, 'vectorizer__ngram_range': (1, 1)}\n",
      "Best score:  0.9083819772795693\n"
     ]
    }
   ],
   "source": [
    "grid_tf_lr.fit(X_train, y_train)\n",
    "\n",
    "print('TfidfVectorizer & Logistic Regression CV Performance')\n",
    "print('Best parameters: ', grid_tf_lr.best_params_)\n",
    "print('Best score: ', grid_tf_lr.best_score_ ) "
   ]
  },
  {
   "cell_type": "code",
   "execution_count": 13,
   "id": "dba278b5",
   "metadata": {},
   "outputs": [
    {
     "data": {
      "text/plain": [
       "0.898756146948221"
      ]
     },
     "execution_count": 13,
     "metadata": {},
     "output_type": "execute_result"
    }
   ],
   "source": [
    "vect3 = CountVectorizer(max_df = grid_tf_lr.best_params_['vectorizer__max_df'], \n",
    "                        min_df = grid_tf_lr.best_params_['vectorizer__min_df'], \n",
    "                        ngram_range = grid_tf_lr.best_params_['vectorizer__ngram_range'])\n",
    "X_train_dtm3 = vect3.fit_transform(X_train)\n",
    "X_test_dtm3 = vect3.transform(X_test)\n",
    "\n",
    "lr2 = LogisticRegression(C = grid_tf_lr.best_params_['classifier__C'], max_iter = 1000)\n",
    "lr2.fit(X_train_dtm3, y_train)\n",
    "lr2.score(X_test_dtm3, y_test)"
   ]
  },
  {
   "cell_type": "markdown",
   "id": "cd6ac73d",
   "metadata": {},
   "source": [
    "#### TfidfVectorizer & Multinomial Naive Bayes Performance"
   ]
  },
  {
   "cell_type": "code",
   "execution_count": 14,
   "id": "c681e7c6",
   "metadata": {},
   "outputs": [
    {
     "name": "stdout",
     "output_type": "stream",
     "text": [
      "TfidfVectorizer & Multinomial Naive Bayes CV Performance\n",
      "Best parameters:  {'classifier__alpha': 0.1, 'vectorizer__max_df': 0.5, 'vectorizer__min_df': 3, 'vectorizer__ngram_range': (1, 3)}\n",
      "Best score:  0.8985872410821276\n"
     ]
    }
   ],
   "source": [
    "grid_tf_nb.fit(X_train, y_train)\n",
    "\n",
    "print('TfidfVectorizer & Multinomial Naive Bayes CV Performance')\n",
    "print('Best parameters: ', grid_tf_nb.best_params_)\n",
    "print('Best score: ', grid_tf_nb.best_score_ )"
   ]
  },
  {
   "cell_type": "code",
   "execution_count": 15,
   "id": "8d2474ea",
   "metadata": {},
   "outputs": [
    {
     "data": {
      "text/plain": [
       "0.9010702921608331"
      ]
     },
     "execution_count": 15,
     "metadata": {},
     "output_type": "execute_result"
    }
   ],
   "source": [
    "vect4 = CountVectorizer(max_df = grid_tf_nb.best_params_['vectorizer__max_df'], \n",
    "                        min_df = grid_tf_nb.best_params_['vectorizer__min_df'], \n",
    "                        ngram_range = grid_tf_nb.best_params_['vectorizer__ngram_range'])\n",
    "X_train_dtm4 = vect4.fit_transform(X_train)\n",
    "X_test_dtm4 = vect4.transform(X_test)\n",
    "\n",
    "nb2 = MultinomialNB(alpha = grid_tf_nb.best_params_['classifier__alpha'])\n",
    "nb2.fit(X_train_dtm4, y_train)\n",
    "nb2.score(X_test_dtm4, y_test)"
   ]
  },
  {
   "cell_type": "markdown",
   "id": "60448dcf",
   "metadata": {},
   "source": [
    "### Evaluating the Best Model\n",
    "\n",
    "We can see that the TfidfVectorizer and Logistic Regression Combination had the highest accuracy on the training set during GridSearch cross validation, but the CountVectorizer and Logistic Regression & Naive Bayes had the highest accuracies on the testing set (they tied). We will continue with the CountVectorizer and Naive Bayes combination as naive bayes is generally a better classifier for sentiment analysis and we will be able to explore strengths of each word with this. Let's further look at the performance of this model. "
   ]
  },
  {
   "cell_type": "code",
   "execution_count": 16,
   "id": "557cd431",
   "metadata": {},
   "outputs": [],
   "source": [
    "#Redefine names of vectorizers, sets, and model for ease of further evaluation\n",
    "vect = CountVectorizer(max_df = grid_cv_nb.best_params_['vectorizer__max_df'], \n",
    "                              min_df = grid_cv_nb.best_params_['vectorizer__min_df'], \n",
    "                              ngram_range = grid_cv_nb.best_params_['vectorizer__ngram_range'])\n",
    "X_train_dtm = vect.fit_transform(X_train)\n",
    "X_test_dtm = vect.transform(X_test)\n",
    "\n",
    "nb = MultinomialNB(alpha = grid_cv_nb.best_params_['classifier__alpha'])\n",
    "nb.fit(X_train_dtm, y_train)\n",
    "y_pred_train = nb.predict(X_train_dtm)\n",
    "y_pred_test = nb.predict(X_test_dtm)"
   ]
  },
  {
   "cell_type": "code",
   "execution_count": 17,
   "id": "01100a95",
   "metadata": {},
   "outputs": [
    {
     "data": {
      "text/html": [
       "<div>\n",
       "<style scoped>\n",
       "    .dataframe tbody tr th:only-of-type {\n",
       "        vertical-align: middle;\n",
       "    }\n",
       "\n",
       "    .dataframe tbody tr th {\n",
       "        vertical-align: top;\n",
       "    }\n",
       "\n",
       "    .dataframe thead th {\n",
       "        text-align: right;\n",
       "    }\n",
       "</style>\n",
       "<table border=\"1\" class=\"dataframe\">\n",
       "  <thead>\n",
       "    <tr style=\"text-align: right;\">\n",
       "      <th></th>\n",
       "      <th>aa</th>\n",
       "      <th>aa agent</th>\n",
       "      <th>aa customer</th>\n",
       "      <th>aa doe</th>\n",
       "      <th>aa employee</th>\n",
       "      <th>aa flight</th>\n",
       "      <th>aa wa</th>\n",
       "      <th>abc</th>\n",
       "      <th>ability</th>\n",
       "      <th>able</th>\n",
       "      <th>...</th>\n",
       "      <th>young</th>\n",
       "      <th>yous</th>\n",
       "      <th>yr</th>\n",
       "      <th>yr old</th>\n",
       "      <th>yuma</th>\n",
       "      <th>yup</th>\n",
       "      <th>yyz</th>\n",
       "      <th>zero</th>\n",
       "      <th>zone</th>\n",
       "      <th>zurich</th>\n",
       "    </tr>\n",
       "  </thead>\n",
       "  <tbody>\n",
       "    <tr>\n",
       "      <th>0</th>\n",
       "      <td>0</td>\n",
       "      <td>0</td>\n",
       "      <td>0</td>\n",
       "      <td>0</td>\n",
       "      <td>0</td>\n",
       "      <td>0</td>\n",
       "      <td>0</td>\n",
       "      <td>0</td>\n",
       "      <td>0</td>\n",
       "      <td>0</td>\n",
       "      <td>...</td>\n",
       "      <td>0</td>\n",
       "      <td>0</td>\n",
       "      <td>0</td>\n",
       "      <td>0</td>\n",
       "      <td>0</td>\n",
       "      <td>0</td>\n",
       "      <td>0</td>\n",
       "      <td>0</td>\n",
       "      <td>0</td>\n",
       "      <td>0</td>\n",
       "    </tr>\n",
       "    <tr>\n",
       "      <th>1</th>\n",
       "      <td>0</td>\n",
       "      <td>0</td>\n",
       "      <td>0</td>\n",
       "      <td>0</td>\n",
       "      <td>0</td>\n",
       "      <td>0</td>\n",
       "      <td>0</td>\n",
       "      <td>0</td>\n",
       "      <td>0</td>\n",
       "      <td>0</td>\n",
       "      <td>...</td>\n",
       "      <td>0</td>\n",
       "      <td>0</td>\n",
       "      <td>0</td>\n",
       "      <td>0</td>\n",
       "      <td>0</td>\n",
       "      <td>0</td>\n",
       "      <td>0</td>\n",
       "      <td>0</td>\n",
       "      <td>0</td>\n",
       "      <td>0</td>\n",
       "    </tr>\n",
       "    <tr>\n",
       "      <th>2</th>\n",
       "      <td>0</td>\n",
       "      <td>0</td>\n",
       "      <td>0</td>\n",
       "      <td>0</td>\n",
       "      <td>0</td>\n",
       "      <td>0</td>\n",
       "      <td>0</td>\n",
       "      <td>0</td>\n",
       "      <td>0</td>\n",
       "      <td>0</td>\n",
       "      <td>...</td>\n",
       "      <td>0</td>\n",
       "      <td>0</td>\n",
       "      <td>0</td>\n",
       "      <td>0</td>\n",
       "      <td>0</td>\n",
       "      <td>0</td>\n",
       "      <td>0</td>\n",
       "      <td>0</td>\n",
       "      <td>0</td>\n",
       "      <td>0</td>\n",
       "    </tr>\n",
       "    <tr>\n",
       "      <th>3</th>\n",
       "      <td>0</td>\n",
       "      <td>0</td>\n",
       "      <td>0</td>\n",
       "      <td>0</td>\n",
       "      <td>0</td>\n",
       "      <td>0</td>\n",
       "      <td>0</td>\n",
       "      <td>0</td>\n",
       "      <td>0</td>\n",
       "      <td>0</td>\n",
       "      <td>...</td>\n",
       "      <td>0</td>\n",
       "      <td>0</td>\n",
       "      <td>0</td>\n",
       "      <td>0</td>\n",
       "      <td>0</td>\n",
       "      <td>0</td>\n",
       "      <td>0</td>\n",
       "      <td>0</td>\n",
       "      <td>0</td>\n",
       "      <td>0</td>\n",
       "    </tr>\n",
       "    <tr>\n",
       "      <th>4</th>\n",
       "      <td>0</td>\n",
       "      <td>0</td>\n",
       "      <td>0</td>\n",
       "      <td>0</td>\n",
       "      <td>0</td>\n",
       "      <td>0</td>\n",
       "      <td>0</td>\n",
       "      <td>0</td>\n",
       "      <td>0</td>\n",
       "      <td>0</td>\n",
       "      <td>...</td>\n",
       "      <td>0</td>\n",
       "      <td>0</td>\n",
       "      <td>0</td>\n",
       "      <td>0</td>\n",
       "      <td>0</td>\n",
       "      <td>0</td>\n",
       "      <td>0</td>\n",
       "      <td>0</td>\n",
       "      <td>0</td>\n",
       "      <td>0</td>\n",
       "    </tr>\n",
       "    <tr>\n",
       "      <th>...</th>\n",
       "      <td>...</td>\n",
       "      <td>...</td>\n",
       "      <td>...</td>\n",
       "      <td>...</td>\n",
       "      <td>...</td>\n",
       "      <td>...</td>\n",
       "      <td>...</td>\n",
       "      <td>...</td>\n",
       "      <td>...</td>\n",
       "      <td>...</td>\n",
       "      <td>...</td>\n",
       "      <td>...</td>\n",
       "      <td>...</td>\n",
       "      <td>...</td>\n",
       "      <td>...</td>\n",
       "      <td>...</td>\n",
       "      <td>...</td>\n",
       "      <td>...</td>\n",
       "      <td>...</td>\n",
       "      <td>...</td>\n",
       "      <td>...</td>\n",
       "    </tr>\n",
       "    <tr>\n",
       "      <th>8061</th>\n",
       "      <td>0</td>\n",
       "      <td>0</td>\n",
       "      <td>0</td>\n",
       "      <td>0</td>\n",
       "      <td>0</td>\n",
       "      <td>0</td>\n",
       "      <td>0</td>\n",
       "      <td>0</td>\n",
       "      <td>0</td>\n",
       "      <td>0</td>\n",
       "      <td>...</td>\n",
       "      <td>0</td>\n",
       "      <td>0</td>\n",
       "      <td>0</td>\n",
       "      <td>0</td>\n",
       "      <td>0</td>\n",
       "      <td>0</td>\n",
       "      <td>0</td>\n",
       "      <td>0</td>\n",
       "      <td>0</td>\n",
       "      <td>0</td>\n",
       "    </tr>\n",
       "    <tr>\n",
       "      <th>8062</th>\n",
       "      <td>0</td>\n",
       "      <td>0</td>\n",
       "      <td>0</td>\n",
       "      <td>0</td>\n",
       "      <td>0</td>\n",
       "      <td>0</td>\n",
       "      <td>0</td>\n",
       "      <td>0</td>\n",
       "      <td>0</td>\n",
       "      <td>0</td>\n",
       "      <td>...</td>\n",
       "      <td>0</td>\n",
       "      <td>0</td>\n",
       "      <td>0</td>\n",
       "      <td>0</td>\n",
       "      <td>0</td>\n",
       "      <td>0</td>\n",
       "      <td>0</td>\n",
       "      <td>0</td>\n",
       "      <td>0</td>\n",
       "      <td>0</td>\n",
       "    </tr>\n",
       "    <tr>\n",
       "      <th>8063</th>\n",
       "      <td>0</td>\n",
       "      <td>0</td>\n",
       "      <td>0</td>\n",
       "      <td>0</td>\n",
       "      <td>0</td>\n",
       "      <td>0</td>\n",
       "      <td>0</td>\n",
       "      <td>0</td>\n",
       "      <td>0</td>\n",
       "      <td>0</td>\n",
       "      <td>...</td>\n",
       "      <td>0</td>\n",
       "      <td>0</td>\n",
       "      <td>0</td>\n",
       "      <td>0</td>\n",
       "      <td>0</td>\n",
       "      <td>0</td>\n",
       "      <td>0</td>\n",
       "      <td>0</td>\n",
       "      <td>0</td>\n",
       "      <td>0</td>\n",
       "    </tr>\n",
       "    <tr>\n",
       "      <th>8064</th>\n",
       "      <td>0</td>\n",
       "      <td>0</td>\n",
       "      <td>0</td>\n",
       "      <td>0</td>\n",
       "      <td>0</td>\n",
       "      <td>0</td>\n",
       "      <td>0</td>\n",
       "      <td>0</td>\n",
       "      <td>0</td>\n",
       "      <td>0</td>\n",
       "      <td>...</td>\n",
       "      <td>0</td>\n",
       "      <td>0</td>\n",
       "      <td>0</td>\n",
       "      <td>0</td>\n",
       "      <td>0</td>\n",
       "      <td>0</td>\n",
       "      <td>0</td>\n",
       "      <td>0</td>\n",
       "      <td>0</td>\n",
       "      <td>0</td>\n",
       "    </tr>\n",
       "    <tr>\n",
       "      <th>8065</th>\n",
       "      <td>0</td>\n",
       "      <td>0</td>\n",
       "      <td>0</td>\n",
       "      <td>0</td>\n",
       "      <td>0</td>\n",
       "      <td>0</td>\n",
       "      <td>0</td>\n",
       "      <td>0</td>\n",
       "      <td>0</td>\n",
       "      <td>0</td>\n",
       "      <td>...</td>\n",
       "      <td>0</td>\n",
       "      <td>0</td>\n",
       "      <td>0</td>\n",
       "      <td>0</td>\n",
       "      <td>0</td>\n",
       "      <td>0</td>\n",
       "      <td>0</td>\n",
       "      <td>0</td>\n",
       "      <td>0</td>\n",
       "      <td>0</td>\n",
       "    </tr>\n",
       "  </tbody>\n",
       "</table>\n",
       "<p>8066 rows × 4581 columns</p>\n",
       "</div>"
      ],
      "text/plain": [
       "      aa  aa agent  aa customer  aa doe  aa employee  aa flight  aa wa  abc  \\\n",
       "0      0         0            0       0            0          0      0    0   \n",
       "1      0         0            0       0            0          0      0    0   \n",
       "2      0         0            0       0            0          0      0    0   \n",
       "3      0         0            0       0            0          0      0    0   \n",
       "4      0         0            0       0            0          0      0    0   \n",
       "...   ..       ...          ...     ...          ...        ...    ...  ...   \n",
       "8061   0         0            0       0            0          0      0    0   \n",
       "8062   0         0            0       0            0          0      0    0   \n",
       "8063   0         0            0       0            0          0      0    0   \n",
       "8064   0         0            0       0            0          0      0    0   \n",
       "8065   0         0            0       0            0          0      0    0   \n",
       "\n",
       "      ability  able  ...  young  yous  yr  yr old  yuma  yup  yyz  zero  zone  \\\n",
       "0           0     0  ...      0     0   0       0     0    0    0     0     0   \n",
       "1           0     0  ...      0     0   0       0     0    0    0     0     0   \n",
       "2           0     0  ...      0     0   0       0     0    0    0     0     0   \n",
       "3           0     0  ...      0     0   0       0     0    0    0     0     0   \n",
       "4           0     0  ...      0     0   0       0     0    0    0     0     0   \n",
       "...       ...   ...  ...    ...   ...  ..     ...   ...  ...  ...   ...   ...   \n",
       "8061        0     0  ...      0     0   0       0     0    0    0     0     0   \n",
       "8062        0     0  ...      0     0   0       0     0    0    0     0     0   \n",
       "8063        0     0  ...      0     0   0       0     0    0    0     0     0   \n",
       "8064        0     0  ...      0     0   0       0     0    0    0     0     0   \n",
       "8065        0     0  ...      0     0   0       0     0    0    0     0     0   \n",
       "\n",
       "      zurich  \n",
       "0          0  \n",
       "1          0  \n",
       "2          0  \n",
       "3          0  \n",
       "4          0  \n",
       "...      ...  \n",
       "8061       0  \n",
       "8062       0  \n",
       "8063       0  \n",
       "8064       0  \n",
       "8065       0  \n",
       "\n",
       "[8066 rows x 4581 columns]"
      ]
     },
     "execution_count": 17,
     "metadata": {},
     "output_type": "execute_result"
    }
   ],
   "source": [
    "#Look at the train set as a pandas Dataframe\n",
    "pd.DataFrame(X_train_dtm.toarray(), columns=vect.get_feature_names())"
   ]
  },
  {
   "cell_type": "code",
   "execution_count": 18,
   "id": "acb6d9d3",
   "metadata": {},
   "outputs": [
    {
     "data": {
      "text/plain": [
       "scipy.sparse.csr.csr_matrix"
      ]
     },
     "execution_count": 18,
     "metadata": {},
     "output_type": "execute_result"
    }
   ],
   "source": [
    "type(X_train_dtm)"
   ]
  },
  {
   "cell_type": "markdown",
   "id": "84345861",
   "metadata": {},
   "source": [
    "We can see this a sparse matrix (lots of zeros). We can also see that a lot of these words are nonsensical, probably typos, etc. but they may create noise in our model. We will attempt later on to find only the most important words and use those as our feature set. First, lets see how a prediction model works on this feature set. "
   ]
  },
  {
   "cell_type": "code",
   "execution_count": 19,
   "id": "6586713d",
   "metadata": {},
   "outputs": [
    {
     "name": "stdout",
     "output_type": "stream",
     "text": [
      "Accuracy on training data: 0.934\n",
      "Accuracy on test data:     0.907\n"
     ]
    }
   ],
   "source": [
    "print (\"Accuracy on training data: %0.3f\" % (nb.score(X_train_dtm, y_train)))\n",
    "print (\"Accuracy on test data:     %0.3f\" % (nb.score(X_test_dtm, y_test)))"
   ]
  },
  {
   "cell_type": "markdown",
   "id": "223f5bfb",
   "metadata": {},
   "source": [
    "We can see that this model performs quite well. It also does not seem to be overfitting the training data as the accuracy on the test data looks good as well. "
   ]
  },
  {
   "cell_type": "code",
   "execution_count": 20,
   "id": "6efaed73",
   "metadata": {},
   "outputs": [
    {
     "data": {
      "image/png": "[encoded data removed]",
      "text/plain": [
       "<Figure size 432x288 with 2 Axes>"
      ]
     },
     "metadata": {
      "needs_background": "light"
     },
     "output_type": "display_data"
    }
   ],
   "source": [
    "#Let's look at the confusion matrix for the test\n",
    "cm = metrics.confusion_matrix(y_test, y_pred_test)\n",
    "disp = metrics.ConfusionMatrixDisplay(confusion_matrix=cm)\n",
    "disp.plot()\n",
    "plt.title(\"Testing Confusion Matrix\")\n",
    "plt.show()"
   ]
  },
  {
   "cell_type": "code",
   "execution_count": 21,
   "id": "62879d7a",
   "metadata": {},
   "outputs": [
    {
     "data": {
      "text/plain": [
       "2163     thank reply emailed customer care department e...\n",
       "7968       best pleased service far gate guarantee correct\n",
       "7532     thank correctly interpreting tweet non sarcast...\n",
       "5396                      rt fleet fleek httptconcguzdgdaq\n",
       "4849     just wanted southwest know think great used an...\n",
       "5958     jetblue thanks including u tour did pack winte...\n",
       "1897     thank reply frustration spending upgrade just ...\n",
       "3362     quick response offering assistance lack follow...\n",
       "4311     city nationwide sale ha fabulous fare buffalo ...\n",
       "3083     thanks reaching seat wa hard cushion ok short ...\n",
       "10189    really appreciate great customer service servi...\n",
       "10892                              finally got phone worry\n",
       "9646                                          bot haha lie\n",
       "2177     loyalty team basically flipped phone thanks ma...\n",
       "8965     saving grace wa flight attendant dallas wa ama...\n",
       "4523         landing ric right left atl picked delta maybe\n",
       "5444     thank really responding request sending generi...\n",
       "2466     thanks great news refund ticket bad exchange r...\n",
       "6158       channel supposed watch scandal free flyfi sweet\n",
       "5412                        rt fleet fleek httptcoiutzvhco\n",
       "Name: text_clean, dtype: object"
      ]
     },
     "execution_count": 21,
     "metadata": {},
     "output_type": "execute_result"
    }
   ],
   "source": [
    "# print message text for the false positives (negative tweets incorrectly labeled as positive)\n",
    "X_test[y_test < y_pred_test].head(20)"
   ]
  },
  {
   "cell_type": "markdown",
   "id": "a630a6ac",
   "metadata": {},
   "source": [
    "We can see words like \"thank\", \"best\", \"quick\", \"fabulous\", \"appreciate\", etc. were in the tweets that were incorrectly labeled as positive. We can see that this classifier is not very good at picking up sarcasm."
   ]
  },
  {
   "cell_type": "markdown",
   "id": "60e1ce5a",
   "metadata": {},
   "source": [
    "#### Identify Strongly Predictive Features"
   ]
  },
  {
   "cell_type": "code",
   "execution_count": 25,
   "id": "5405e6bc",
   "metadata": {},
   "outputs": [
    {
     "name": "stdout",
     "output_type": "stream",
     "text": [
      "Good words\t     P(fresh | word)\n",
      "        best airline 0.94\n",
      "            passbook 0.94\n",
      "      awesome thanks 0.93\n",
      "            guy rock 0.92\n",
      "        thanks quick 0.91\n",
      "           wonderful 0.91\n",
      "         great thank 0.91\n",
      "        great flight 0.90\n",
      "           fantastic 0.90\n",
      "        thanks great 0.89\n",
      "Bad words\t     P(fresh | word)\n",
      "                fail 0.02\n",
      "        disappointed 0.02\n",
      "                  hr 0.02\n",
      "      flight delayed 0.01\n",
      "             luggage 0.01\n",
      "                rude 0.01\n",
      "           hold hour 0.01\n",
      "              online 0.01\n",
      "    flight cancelled 0.01\n",
      "               worst 0.01\n"
     ]
    }
   ],
   "source": [
    "words = np.array(vect.get_feature_names())\n",
    "\n",
    "x = np.eye(X_test_dtm.shape[1])\n",
    "probs = nb.predict_log_proba(x)[:, 0]\n",
    "ind = np.argsort(probs)\n",
    "\n",
    "good_words = words[ind[:10]]\n",
    "bad_words = words[ind[-10:]]\n",
    "\n",
    "good_prob = probs[ind[:10]]\n",
    "bad_prob = probs[ind[-10:]]\n",
    "\n",
    "pred_strength = pd.DataFrame({'tokens':words, 'probability':1-np.exp(probs)})\n",
    "\n",
    "print(\"Good words\\t     P(fresh | word)\")\n",
    "for w, p in zip(good_words, good_prob):\n",
    "    print(\"{:>20}\".format(w), \"{:.2f}\".format(1 - np.exp(p)))\n",
    "    \n",
    "print(\"Bad words\\t     P(fresh | word)\")\n",
    "for w, p in zip(bad_words, bad_prob):\n",
    "    print(\"{:>20}\".format(w), \"{:.2f}\".format(1 - np.exp(p)))"
   ]
  },
  {
   "cell_type": "code",
   "execution_count": 26,
   "id": "4e227a0d",
   "metadata": {},
   "outputs": [
    {
     "data": {
      "text/html": [
       "<div>\n",
       "<style scoped>\n",
       "    .dataframe tbody tr th:only-of-type {\n",
       "        vertical-align: middle;\n",
       "    }\n",
       "\n",
       "    .dataframe tbody tr th {\n",
       "        vertical-align: top;\n",
       "    }\n",
       "\n",
       "    .dataframe thead th {\n",
       "        text-align: right;\n",
       "    }\n",
       "</style>\n",
       "<table border=\"1\" class=\"dataframe\">\n",
       "  <thead>\n",
       "    <tr style=\"text-align: right;\">\n",
       "      <th></th>\n",
       "      <th>tokens</th>\n",
       "      <th>probability</th>\n",
       "    </tr>\n",
       "  </thead>\n",
       "  <tbody>\n",
       "    <tr>\n",
       "      <th>4520</th>\n",
       "      <td>worst</td>\n",
       "      <td>0.006799</td>\n",
       "    </tr>\n",
       "    <tr>\n",
       "      <th>1351</th>\n",
       "      <td>flight cancelled</td>\n",
       "      <td>0.008837</td>\n",
       "    </tr>\n",
       "    <tr>\n",
       "      <th>2816</th>\n",
       "      <td>online</td>\n",
       "      <td>0.009468</td>\n",
       "    </tr>\n",
       "    <tr>\n",
       "      <th>1932</th>\n",
       "      <td>hold hour</td>\n",
       "      <td>0.009728</td>\n",
       "    </tr>\n",
       "    <tr>\n",
       "      <th>3397</th>\n",
       "      <td>rude</td>\n",
       "      <td>0.011161</td>\n",
       "    </tr>\n",
       "    <tr>\n",
       "      <th>...</th>\n",
       "      <td>...</td>\n",
       "      <td>...</td>\n",
       "    </tr>\n",
       "    <tr>\n",
       "      <th>3933</th>\n",
       "      <td>thanks quick</td>\n",
       "      <td>0.913866</td>\n",
       "    </tr>\n",
       "    <tr>\n",
       "      <th>1808</th>\n",
       "      <td>guy rock</td>\n",
       "      <td>0.921078</td>\n",
       "    </tr>\n",
       "    <tr>\n",
       "      <th>279</th>\n",
       "      <td>awesome thanks</td>\n",
       "      <td>0.932399</td>\n",
       "    </tr>\n",
       "    <tr>\n",
       "      <th>2884</th>\n",
       "      <td>passbook</td>\n",
       "      <td>0.940880</td>\n",
       "    </tr>\n",
       "    <tr>\n",
       "      <th>365</th>\n",
       "      <td>best airline</td>\n",
       "      <td>0.944369</td>\n",
       "    </tr>\n",
       "  </tbody>\n",
       "</table>\n",
       "<p>4581 rows × 2 columns</p>\n",
       "</div>"
      ],
      "text/plain": [
       "                tokens  probability\n",
       "4520             worst     0.006799\n",
       "1351  flight cancelled     0.008837\n",
       "2816            online     0.009468\n",
       "1932         hold hour     0.009728\n",
       "3397              rude     0.011161\n",
       "...                ...          ...\n",
       "3933      thanks quick     0.913866\n",
       "1808          guy rock     0.921078\n",
       "279     awesome thanks     0.932399\n",
       "2884          passbook     0.940880\n",
       "365       best airline     0.944369\n",
       "\n",
       "[4581 rows x 2 columns]"
      ]
     },
     "execution_count": 26,
     "metadata": {},
     "output_type": "execute_result"
    }
   ],
   "source": [
    "pred_strength.sort_values('probability')"
   ]
  },
  {
   "cell_type": "markdown",
   "id": "7dfc33c2",
   "metadata": {},
   "source": [
    "## Modeling by Airline"
   ]
  },
  {
   "cell_type": "markdown",
   "id": "672bb179",
   "metadata": {},
   "source": [
    "We now want to build the model to classify positive and negative tweets for each airline as well as find the strongly predictive words for each. To do so, we will first attempt this by splitting the dataset by airline and modeling individually. We will then try to accomplish this by adding a new column that includes both sentiment and airline, and try to model as a multi-class classification. "
   ]
  },
  {
   "cell_type": "code",
   "execution_count": 67,
   "id": "13463fe0",
   "metadata": {},
   "outputs": [],
   "source": [
    "df_united = df[df['airline']=='United']\n",
    "df_usairways = df[df['airline']=='US Airways']\n",
    "df_american = df[df['airline']=='American']\n",
    "df_southwest = df[df['airline']=='Southwest']\n",
    "df_delta = df[df['airline']=='Delta']\n",
    "df_virginam = df[df['airline']=='Virgin America']"
   ]
  },
  {
   "cell_type": "code",
   "execution_count": 80,
   "id": "25bba4f5",
   "metadata": {},
   "outputs": [],
   "source": [
    "def sentiments_by_airline(df_input):\n",
    "    #Define train and test sets\n",
    "    X_df = df_input.text_clean\n",
    "    y_df = df_input.sentiment_num\n",
    "\n",
    "    Xtr, Xte, ytr, yte = train_test_split(X_df, y_df, test_size = 0.3, stratify=y_df, random_state=1)\n",
    "\n",
    "    #Use CountVectorizer with same parameters from final model before\n",
    "    vect = CountVectorizer(max_df = grid_cv_nb.best_params_['vectorizer__max_df'], \n",
    "                           min_df = grid_cv_nb.best_params_['vectorizer__min_df'], \n",
    "                           ngram_range = grid_cv_nb.best_params_['vectorizer__ngram_range'])\n",
    "    Xtr_dtm = vect.fit_transform(Xtr)\n",
    "    Xte_dtm = vect.transform(Xte)\n",
    "\n",
    "    #Train NB model and find accuracy for train and test sets\n",
    "    nb = MultinomialNB(alpha = grid_cv_nb.best_params_['classifier__alpha'])\n",
    "    nb.fit(Xtr_dtm, ytr)\n",
    "    print (\"Accuracy on training data: %0.3f\" % (nb.score(Xtr_dtm, ytr)))\n",
    "    print (\"Accuracy on test data:     %0.3f\" % (nb.score(Xte_dtm, yte)))\n",
    "    \n",
    "    #Same process as before to find top words and ngrams for positive and negative sentiments\n",
    "    words = np.array(vect.get_feature_names())\n",
    "\n",
    "    x = np.eye(Xte_dtm.shape[1])\n",
    "    probs = nb.predict_log_proba(x)[:, 0]\n",
    "    ind = np.argsort(probs)\n",
    "\n",
    "    good_words = words[ind[:15]]\n",
    "    bad_words = words[ind[-15:]]\n",
    "\n",
    "    good_prob = probs[ind[:15]]\n",
    "    bad_prob = probs[ind[-15:]]\n",
    "\n",
    "    pred_strength = pd.DataFrame({'tokens':words, 'probability':1-np.exp(probs)})\n",
    "\n",
    "    print(\"Good words\\t     P(fresh | word)\")\n",
    "    for w, p in zip(good_words, good_prob):\n",
    "        print(\"{:>20}\".format(w), \"{:.2f}\".format(1 - np.exp(p)))\n",
    "    \n",
    "    print(\"Bad words\\t     P(fresh | word)\")\n",
    "    for w, p in zip(bad_words, bad_prob):\n",
    "        print(\"{:>20}\".format(w), \"{:.2f}\".format(1 - np.exp(p)))"
   ]
  },
  {
   "cell_type": "markdown",
   "id": "2d9ec768",
   "metadata": {},
   "source": [
    "### United"
   ]
  },
  {
   "cell_type": "code",
   "execution_count": 81,
   "id": "02a134f5",
   "metadata": {},
   "outputs": [
    {
     "name": "stdout",
     "output_type": "stream",
     "text": [
      "Accuracy on training data: 0.937\n",
      "Accuracy on test data:     0.904\n",
      "Good words\t     P(fresh | word)\n",
      "         thanks help 0.87\n",
      "               kudos 0.81\n",
      "               worry 0.81\n",
      "               cheer 0.81\n",
      "          thank help 0.81\n",
      "            bringing 0.78\n",
      "        great flight 0.78\n",
      "           good work 0.78\n",
      "        global class 0.78\n",
      "           follow dm 0.78\n",
      "     thanks checking 0.78\n",
      "               thank 0.76\n",
      "             amazing 0.69\n",
      "           excellent 0.69\n",
      "            deserves 0.69\n",
      "Bad words\t     P(fresh | word)\n",
      "               think 0.03\n",
      "      delayed flight 0.03\n",
      "              booked 0.03\n",
      "        disappointed 0.03\n",
      "             flightr 0.03\n",
      "        late flightr 0.03\n",
      "                long 0.03\n",
      "              minute 0.03\n",
      "                hour 0.03\n",
      "             sitting 0.03\n",
      "                said 0.03\n",
      "               stuck 0.03\n",
      "           passenger 0.02\n",
      "                 say 0.02\n",
      "               worst 0.01\n"
     ]
    }
   ],
   "source": [
    "sentiments_by_airline(df_united)"
   ]
  },
  {
   "cell_type": "markdown",
   "id": "94953b4f",
   "metadata": {},
   "source": [
    "We see that the positive sentiments include a lot of ngrams including thanks, excellent, checking - they are all celebrating a good experience and showing appreciation for good service. The negative sentiments include lots of words involving time and delays, as well as showing disappointment in booking experience. \n",
    "\n",
    "### US Airways"
   ]
  },
  {
   "cell_type": "code",
   "execution_count": 82,
   "id": "951afaf6",
   "metadata": {},
   "outputs": [
    {
     "name": "stdout",
     "output_type": "stream",
     "text": [
      "Accuracy on training data: 0.949\n",
      "Accuracy on test data:     0.918\n",
      "Good words\t     P(fresh | word)\n",
      "               kudos 0.82\n",
      "           did great 0.79\n",
      "         best follow 0.79\n",
      "           wonderful 0.79\n",
      "               shout 0.75\n",
      "        great people 0.75\n",
      "              follow 0.71\n",
      "                  fa 0.69\n",
      "         thanks help 0.65\n",
      "               super 0.65\n",
      "               thank 0.65\n",
      "           great job 0.60\n",
      "              hoping 0.60\n",
      "        flight thank 0.60\n",
      "             amazing 0.60\n",
      "Bad words\t     P(fresh | word)\n",
      "                  hr 0.02\n",
      "                 doe 0.02\n",
      "                 min 0.02\n",
      "                line 0.02\n",
      "        late flightr 0.02\n",
      "             sitting 0.02\n",
      "             flightr 0.02\n",
      "                told 0.02\n",
      "           hold hour 0.02\n",
      "                mile 0.02\n",
      "               worst 0.01\n",
      "             waiting 0.01\n",
      "                hour 0.01\n",
      "              minute 0.01\n",
      "                hold 0.01\n"
     ]
    }
   ],
   "source": [
    "sentiments_by_airline(df_usairways)"
   ]
  },
  {
   "cell_type": "markdown",
   "id": "2c5734bd",
   "metadata": {},
   "source": [
    "The positive sentiments seem to show appreciation to the staff, flight attendents, etc. while the negative sentiments again seem to show disappointment to time related things. We see the words \"mile\" and \"hold\" which may signify the customers are having a poor experience with phone service and redeeming mileage points. \n",
    "\n",
    "### American"
   ]
  },
  {
   "cell_type": "code",
   "execution_count": 83,
   "id": "e8fa5238",
   "metadata": {},
   "outputs": [
    {
     "name": "stdout",
     "output_type": "stream",
     "text": [
      "Accuracy on training data: 0.954\n",
      "Accuracy on test data:     0.894\n",
      "Good words\t     P(fresh | word)\n",
      "               photo 0.86\n",
      "                safe 0.81\n",
      "        great thanks 0.81\n",
      "                 aww 0.81\n",
      "           fantastic 0.81\n",
      "           excellent 0.81\n",
      "               thank 0.81\n",
      "        photo thanks 0.78\n",
      "             amazing 0.78\n",
      "               sweet 0.78\n",
      "      awesome thanks 0.78\n",
      "         thanks help 0.78\n",
      "               kudos 0.78\n",
      "          appreciate 0.72\n",
      "               great 0.69\n",
      "Bad words\t     P(fresh | word)\n",
      "           cancelled 0.03\n",
      "              answer 0.03\n",
      "    cancelled flight 0.03\n",
      "               phone 0.03\n",
      "              online 0.03\n",
      "                want 0.03\n",
      "                hour 0.02\n",
      "               worst 0.02\n",
      "    flight cancelled 0.02\n",
      "                told 0.02\n",
      "              trying 0.02\n",
      "             waiting 0.01\n",
      "                  hr 0.01\n",
      "                need 0.01\n",
      "                hold 0.01\n"
     ]
    }
   ],
   "source": [
    "sentiments_by_airline(df_american)"
   ]
  },
  {
   "cell_type": "markdown",
   "id": "a141f56c",
   "metadata": {},
   "source": [
    "For American, lots of similar words, though we do see \"safe\" which may show American is doing a good job in putting an emphasis on safety for the passengers. The negative sentiments seem to largely be directed at cancelled flights and phone service which is something this airline may want to pay attention to. \n",
    "\n",
    "### Southwest"
   ]
  },
  {
   "cell_type": "code",
   "execution_count": 84,
   "id": "25efa1f5",
   "metadata": {},
   "outputs": [
    {
     "name": "stdout",
     "output_type": "stream",
     "text": [
      "Accuracy on training data: 0.915\n",
      "Accuracy on test data:     0.858\n",
      "Good words\t     P(fresh | word)\n",
      "             awesome 0.96\n",
      "            passbook 0.93\n",
      "               thank 0.91\n",
      "        best airline 0.91\n",
      "             amazing 0.90\n",
      "                 god 0.89\n",
      "              lauren 0.87\n",
      "                rock 0.87\n",
      "              oh god 0.87\n",
      "                 lol 0.87\n",
      "            favorite 0.87\n",
      "                fast 0.87\n",
      "                 fan 0.87\n",
      "             sent dm 0.85\n",
      "      love southwest 0.85\n",
      "Bad words\t     P(fresh | word)\n",
      "              answer 0.07\n",
      "              refund 0.06\n",
      "               phone 0.06\n",
      "               stuck 0.06\n",
      "               worst 0.05\n",
      "                hour 0.05\n",
      " cancelled flightled 0.05\n",
      "           flightled 0.05\n",
      "             luggage 0.05\n",
      "    flight cancelled 0.04\n",
      "                 min 0.03\n",
      "              online 0.03\n",
      "           hold hour 0.03\n",
      "                  hr 0.02\n",
      "                hold 0.02\n"
     ]
    }
   ],
   "source": [
    "sentiments_by_airline(df_southwest)"
   ]
  },
  {
   "cell_type": "markdown",
   "id": "75258483",
   "metadata": {},
   "source": [
    "We see the same sort of positive words here, and even a specific name of an employee most likely (seems she needs a raise!!). The negative sentiment words seem to have similar ideas of cancellations, luggage (most likely missing), as well as refund (perhaps lots of difficulty in receiving one). \n",
    "\n",
    "### Delta"
   ]
  },
  {
   "cell_type": "code",
   "execution_count": 85,
   "id": "22b00d17",
   "metadata": {},
   "outputs": [
    {
     "name": "stdout",
     "output_type": "stream",
     "text": [
      "Accuracy on training data: 0.904\n",
      "Accuracy on test data:     0.840\n",
      "Good words\t     P(fresh | word)\n",
      "               thank 0.93\n",
      "        great flight 0.93\n",
      "                rock 0.91\n",
      "               great 0.88\n",
      "              thanks 0.88\n",
      "            love guy 0.87\n",
      "          bluemanity 0.87\n",
      "            guy rock 0.87\n",
      "             awesome 0.87\n",
      "         thanks help 0.85\n",
      "      awesome thanks 0.85\n",
      "            favorite 0.85\n",
      "        thanks quick 0.85\n",
      "               video 0.85\n",
      "               reply 0.85\n",
      "Bad words\t     P(fresh | word)\n",
      "               delay 0.08\n",
      "               hotel 0.08\n",
      "                late 0.08\n",
      "      flight delayed 0.08\n",
      "  cancelled flighted 0.08\n",
      "            flighted 0.08\n",
      "                left 0.08\n",
      "                  hr 0.08\n",
      "             sitting 0.07\n",
      "                told 0.07\n",
      "                  pm 0.07\n",
      "           cancelled 0.06\n",
      "         late flight 0.05\n",
      "             delayed 0.05\n",
      "                hour 0.02\n"
     ]
    }
   ],
   "source": [
    "sentiments_by_airline(df_delta)"
   ]
  },
  {
   "cell_type": "markdown",
   "id": "bc068c2d",
   "metadata": {},
   "source": [
    "Similar positive words as other airline, negative words include hotel, which may indicate trouble in booking hotel due to cancellation or poor hotel choice due to cancellation, etc. \n",
    "\n",
    "### Virgin America"
   ]
  },
  {
   "cell_type": "code",
   "execution_count": 86,
   "id": "062bf152",
   "metadata": {},
   "outputs": [
    {
     "name": "stdout",
     "output_type": "stream",
     "text": [
      "Accuracy on training data: 0.893\n",
      "Accuracy on test data:     0.750\n",
      "Good words\t     P(fresh | word)\n",
      "               great 0.92\n",
      "                love 0.92\n",
      "               route 0.90\n",
      "              austin 0.88\n",
      "              thanks 0.86\n",
      "            love guy 0.86\n",
      "                best 0.85\n",
      "             america 0.83\n",
      "                rock 0.83\n",
      "                wish 0.83\n",
      "              faster 0.83\n",
      "                cool 0.81\n",
      "    customer service 0.79\n",
      "             amazing 0.79\n",
      "             awesome 0.76\n",
      "Bad words\t     P(fresh | word)\n",
      "             luggage 0.15\n",
      "               phone 0.15\n",
      "                 jfk 0.15\n",
      "             website 0.15\n",
      "                need 0.15\n",
      " cancelled flightled 0.13\n",
      "             checkin 0.13\n",
      "           flightled 0.13\n",
      "              broken 0.13\n",
      "                 bag 0.12\n",
      "              trying 0.10\n",
      "               check 0.09\n",
      "                help 0.09\n",
      "           cancelled 0.08\n",
      "                seat 0.06\n"
     ]
    }
   ],
   "source": [
    "sentiments_by_airline(df_virginam)"
   ]
  },
  {
   "cell_type": "markdown",
   "id": "c6dc773e",
   "metadata": {},
   "source": [
    "Lastly, the positive words for Virgin America are similar once again, with customer service showing up as well. Negative words indicate problems with check-in, flight seats, website, phone service, as well as luggage and bags. "
   ]
  }
 ],
 "metadata": {
  "kernelspec": {
   "display_name": "Python 3",
   "language": "python",
   "name": "python3"
  },
  "language_info": {
   "codemirror_mode": {
    "name": "ipython",
    "version": 3
   },
   "file_extension": ".py",
   "mimetype": "text/x-python",
   "name": "python",
   "nbconvert_exporter": "python",
   "pygments_lexer": "ipython3",
   "version": "3.8.8"
  }
 },
 "nbformat": 4,
 "nbformat_minor": 5
}
